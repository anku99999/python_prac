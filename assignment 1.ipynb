{
 "cells": [
  {
   "cell_type": "code",
   "execution_count": 78,
   "id": "3d0d0ee0-6c40-4300-a808-34549b83c77c",
   "metadata": {},
   "outputs": [
    {
     "name": "stdin",
     "output_type": "stream",
     "text": [
      "given string:  ankit\n"
     ]
    },
    {
     "data": {
      "text/plain": [
       "'tikna'"
      ]
     },
     "execution_count": 78,
     "metadata": {},
     "output_type": "execute_result"
    }
   ],
   "source": [
    "#1. Write a code to reverse the string.\n",
    "string=input(\"given string: \")\n",
    "string[::-1]"
   ]
  },
  {
   "cell_type": "code",
   "execution_count": 77,
   "id": "97755cc8-568b-4884-9205-834136a21535",
   "metadata": {},
   "outputs": [
    {
     "name": "stdin",
     "output_type": "stream",
     "text": [
      "given string:  ankit\n"
     ]
    },
    {
     "name": "stdout",
     "output_type": "stream",
     "text": [
      "2\n"
     ]
    }
   ],
   "source": [
    "#2. Write a code to count the no of vowels in a string.\n",
    "string1=input(\"given string: \")\n",
    "vowels=\"aeiouAEIOU\"\n",
    "count=sum(string1.count(vowel) for vowel in vowels)\n",
    "print(count)"
   ]
  },
  {
   "cell_type": "code",
   "execution_count": 76,
   "id": "a1f98443-508e-4504-b1d4-99b4765a9852",
   "metadata": {},
   "outputs": [
    {
     "name": "stdin",
     "output_type": "stream",
     "text": [
      "given string:  sas\n"
     ]
    },
    {
     "name": "stdout",
     "output_type": "stream",
     "text": [
      "yes\n"
     ]
    }
   ],
   "source": [
    "#3. write a code to check whether a given string is palindrome or not\n",
    "string3=input(\"given string: \")\n",
    "string4=string3[::-1]\n",
    "if string3==string4:\n",
    "    print(\"yes\")\n",
    "else:\n",
    "    print(\"no\")"
   ]
  },
  {
   "cell_type": "code",
   "execution_count": 75,
   "id": "75dcf6f4-7f0d-41e8-a966-2a08df7db0d6",
   "metadata": {},
   "outputs": [
    {
     "name": "stdin",
     "output_type": "stream",
     "text": [
      "write string1:  throw\n",
      "write string2:  rowth\n"
     ]
    },
    {
     "name": "stdout",
     "output_type": "stream",
     "text": [
      "yes\n"
     ]
    }
   ],
   "source": [
    "#4. Write a code to check if two given strings are anagrams of each other.\n",
    "string5=input(\"write string1: \")\n",
    "string6=input(\"write string2: \")\n",
    "if sorted(string5)==sorted(string6):\n",
    "    print(\"yes\")\n",
    "else:\n",
    "    print(\"no\")"
   ]
  },
  {
   "cell_type": "code",
   "execution_count": 12,
   "id": "91f5d474-b4dd-4a38-9e7c-e8921e8fc95e",
   "metadata": {},
   "outputs": [
    {
     "name": "stdin",
     "output_type": "stream",
     "text": [
      "enter a string:  i am a ball\n",
      "enter a sunstring to find:  ball\n"
     ]
    },
    {
     "name": "stdout",
     "output_type": "stream",
     "text": [
      "all occurences are not present\n"
     ]
    }
   ],
   "source": [
    "#5 . Write a code to find all occurences of a given substring within another string.\n",
    "text1=input(\"enter a string: \")\n",
    "text2=input(\"enter a sunstring to find: \")\n",
    "if text1==text2:\n",
    "    print(\"all occurences are present\")\n",
    "else:\n",
    "        print(\"all occurences are not present\")\n"
   ]
  },
  {
   "cell_type": "code",
   "execution_count": 74,
   "id": "e652ed06-e3c6-49e4-bf8b-9d0ac12fa463",
   "metadata": {},
   "outputs": [
    {
     "name": "stdin",
     "output_type": "stream",
     "text": [
      "given string:  ankit\n"
     ]
    },
    {
     "data": {
      "text/plain": [
       "'ANKIT'"
      ]
     },
     "execution_count": 74,
     "metadata": {},
     "output_type": "execute_result"
    }
   ],
   "source": [
    "#8. write a code to cinvert a given string to uppercase or lowercase\n",
    "# check for uppercase\n",
    "string10=input(\"given string: \")\n",
    "string10.upper()"
   ]
  },
  {
   "cell_type": "code",
   "execution_count": 72,
   "id": "10e73c4b-b2c4-4d0c-aa65-b9de6acbd5c1",
   "metadata": {},
   "outputs": [
    {
     "name": "stdin",
     "output_type": "stream",
     "text": [
      "given string:  ANKIT\n"
     ]
    },
    {
     "data": {
      "text/plain": [
       "'ankit'"
      ]
     },
     "execution_count": 72,
     "metadata": {},
     "output_type": "execute_result"
    }
   ],
   "source": [
    "#check for lowecase.\n",
    "string11=input(\"given string: \")\n",
    "string11.lower()"
   ]
  },
  {
   "cell_type": "code",
   "execution_count": 73,
   "id": "59be15c8-bd06-4c29-8dca-41b2f84c2451",
   "metadata": {},
   "outputs": [
    {
     "name": "stdin",
     "output_type": "stream",
     "text": [
      "given string:  ankit\n"
     ]
    },
    {
     "name": "stdout",
     "output_type": "stream",
     "text": [
      "5\n"
     ]
    }
   ],
   "source": [
    "#9. write a code to count the no of words in a string.\n",
    "string12=input(\"given string: \")\n",
    "count=sum(string12.count(string12) for string in string12)\n",
    "print(count)"
   ]
  },
  {
   "cell_type": "code",
   "execution_count": 95,
   "id": "2d01abda-b47a-428b-9caa-c5cff28056db",
   "metadata": {},
   "outputs": [],
   "source": [
    "#10. Write a code to concentanate two strings without the + oprator.\n",
    "string13=\"bye \"\n",
    "string14=\"world \"\n",
    "string15=\"\".join([string13,string14])\n",
    "             \n"
   ]
  },
  {
   "cell_type": "code",
   "execution_count": 96,
   "id": "7b717e5b-b163-41ff-8ad2-61b30a8aef32",
   "metadata": {},
   "outputs": [
    {
     "data": {
      "text/plain": [
       "'bye world '"
      ]
     },
     "execution_count": 96,
     "metadata": {},
     "output_type": "execute_result"
    }
   ],
   "source": [
    "string15"
   ]
  },
  {
   "cell_type": "code",
   "execution_count": 109,
   "id": "3fa02fcb-1a74-4e39-b4c1-8b7a2601b0eb",
   "metadata": {},
   "outputs": [
    {
     "name": "stdout",
     "output_type": "stream",
     "text": [
      "[1, 2, 3, 4, 4, 5, 6, 6, 6]\n",
      "[1, 2, 3, 4, 4, 5, 6, 6]\n",
      "[1, 2, 3, 4, 4, 5, 6]\n",
      "[1, 2, 3, 4, 4, 5]\n"
     ]
    }
   ],
   "source": [
    "#11. write a code to remove all occurences of a specific element of a list.\n",
    "list=[1,2,3,4,4,5,6,6,6,6]\n",
    "# for removing all the occurences of 6\n",
    "word=list.count(6)\n",
    "for i in range(word):\n",
    "    list.remove(6)\n",
    "    print(list)"
   ]
  },
  {
   "cell_type": "code",
   "execution_count": 114,
   "id": "faba46ce-f0d8-4220-b6ab-a06ca35029fb",
   "metadata": {},
   "outputs": [
    {
     "data": {
      "text/plain": [
       "8"
      ]
     },
     "execution_count": 114,
     "metadata": {},
     "output_type": "execute_result"
    }
   ],
   "source": [
    "#12. Impliment a code to find the second largest number in a given list oif integer.\n",
    "list1=[1,2,4,7,6,8,5,9]\n",
    "list1.sort()\n",
    "list1[-2]\n"
   ]
  },
  {
   "cell_type": "code",
   "execution_count": 20,
   "id": "5a3ad8c4-a8e1-4d7d-bcbc-51bd6f81f1b7",
   "metadata": {},
   "outputs": [],
   "source": [
    "#13.Create a code to count the occurence of each element in a list and retrurn a dictionary with element as keys and counts as values.\n",
    "\n",
    "list2=[1,2,3,4,4,5,6,6,6,7]\n",
    "num_element={element:list2.count(element) for element in list2}\n"
   ]
  },
  {
   "cell_type": "code",
   "execution_count": 21,
   "id": "d06a80ad-2d29-458c-b79c-b2610870da98",
   "metadata": {},
   "outputs": [
    {
     "data": {
      "text/plain": [
       "{1: 1, 2: 1, 3: 1, 4: 2, 5: 1, 6: 3, 7: 1}"
      ]
     },
     "execution_count": 21,
     "metadata": {},
     "output_type": "execute_result"
    }
   ],
   "source": [
    "num_element"
   ]
  },
  {
   "cell_type": "code",
   "execution_count": 26,
   "id": "db344611-aad3-43fc-8fb3-a3ac4528d266",
   "metadata": {},
   "outputs": [],
   "source": [
    "#14.Write a code to reverse a list without using inbuilt reverse function.\n",
    "def reverse_list(lst):\n",
    "    left, right = 0, len(lst) - 1\n",
    "    while left < right:\n",
    "        lst[left], lst[right] = lst[right], lst[left]\n",
    "        left += 1\n",
    "        right -= 1\n",
    "\n"
   ]
  },
  {
   "cell_type": "code",
   "execution_count": 27,
   "id": "c88be81a-ee52-4040-91a0-8bdedf48ae8b",
   "metadata": {},
   "outputs": [
    {
     "name": "stdout",
     "output_type": "stream",
     "text": [
      "Reversed list: [5, 4, 3, 2, 1]\n"
     ]
    }
   ],
   "source": [
    "my_list = [1, 2, 3, 4, 5]\n",
    "reverse_list(my_list)\n",
    "print(\"Reversed list:\", my_list)\n"
   ]
  },
  {
   "cell_type": "code",
   "execution_count": 29,
   "id": "a6fed4ac-ecba-446b-8141-4f785e05eef7",
   "metadata": {},
   "outputs": [],
   "source": [
    "#15.Impliment a code to find and remove duplicates from a list while preserving the original order of elements.\n",
    "def remove_duplicates(lst):\n",
    "    seen = set()\n",
    "    result = []\n",
    "    for item in lst:\n",
    "        if item not in seen:\n",
    "            seen.add(item)\n",
    "            result.append(item)\n",
    "    return result"
   ]
  },
  {
   "cell_type": "code",
   "execution_count": 30,
   "id": "e40f6001-476e-46f4-8be8-5785eef02745",
   "metadata": {},
   "outputs": [
    {
     "name": "stdout",
     "output_type": "stream",
     "text": [
      "List with duplicates removed: [1, 2, 3, 4, 5]\n"
     ]
    }
   ],
   "source": [
    "my_list = [1, 2, 3, 2, 4, 3, 5]\n",
    "unique_list = remove_duplicates(my_list)\n",
    "print(\"List with duplicates removed:\", unique_list)"
   ]
  },
  {
   "cell_type": "code",
   "execution_count": 34,
   "id": "db3f795c-1785-4053-9838-9d1e62d08290",
   "metadata": {},
   "outputs": [],
   "source": [
    "#16.create a code to check if a given list is sorted(either in ascending order or desending) or not.\n",
    "def is_sorted(lst):\n",
    "    # Check for ascending order\n",
    "    if all(lst[i] <= lst[i + 1] for i in range(len(lst) - 1)):\n",
    "        return \"Ascending\"\n",
    "    # Check for descending order\n",
    "    elif all(lst[i] >= lst[i + 1] for i in range(len(lst) - 1)):\n",
    "        return \"Descending\"\n",
    "    else:\n",
    "        return \"Unsorted\""
   ]
  },
  {
   "cell_type": "code",
   "execution_count": 35,
   "id": "731aebca-e2a9-4d43-8b4e-e7b01875b212",
   "metadata": {},
   "outputs": [
    {
     "name": "stdout",
     "output_type": "stream",
     "text": [
      "Ascending list: Ascending\n",
      "Descending list: Descending\n",
      "Unsorted list: Unsorted\n"
     ]
    }
   ],
   "source": [
    "ascending_list = [1, 2, 3, 4, 5]\n",
    "descending_list = [5, 4, 3, 2, 1]\n",
    "unsorted_list = [3, 1, 4, 2, 5]\n",
    "\n",
    "print(\"Ascending list:\", is_sorted(ascending_list))\n",
    "print(\"Descending list:\", is_sorted(descending_list))\n",
    "print(\"Unsorted list:\", is_sorted(unsorted_list))"
   ]
  },
  {
   "cell_type": "code",
   "execution_count": 76,
   "id": "0e3fe552-d13d-4f4a-9931-e8d501b0e91d",
   "metadata": {},
   "outputs": [],
   "source": [
    "#17.write a code to merge two sorted list into a single sorted list.\n",
    "def merge_sorted_lists(lst1, lst2):\n",
    "    merged_list = []\n",
    "    i = j = 0\n",
    "\n",
    "    while i < len(lst1) and j < len(lst2):\n",
    "        if lst1[i] <= lst2[j]:\n",
    "            merged_list.append(lst1[i])\n",
    "            i += 1\n",
    "        else:\n",
    "            merged_list.append(lst2[j])\n",
    "            j += 1\n",
    "    \n",
    "    merged_list.extend(lst1[i:])\n",
    "    merged_list.extend(lst2[j:])\n",
    "    \n",
    "    return merged_list    "
   ]
  },
  {
   "cell_type": "code",
   "execution_count": 77,
   "id": "eb6c2b77-3baa-4dfe-8aef-198fcbabf871",
   "metadata": {},
   "outputs": [
    {
     "name": "stdout",
     "output_type": "stream",
     "text": [
      "Merged and sorted list: [1, 2, 3, 4, 5, 6, 7, 8, 9, 10]\n"
     ]
    }
   ],
   "source": [
    "list1 = [1, 3, 5, 7, 9]\n",
    "list2 = [2, 4, 6, 8, 10]\n",
    "\n",
    "merged_list = merge_sorted_lists(list1, list2)\n",
    "print(\"Merged and sorted list:\", merged_list)\n"
   ]
  },
  {
   "cell_type": "code",
   "execution_count": 50,
   "id": "96c8e1ea-bf71-47d5-bd24-f34d69365d3f",
   "metadata": {},
   "outputs": [],
   "source": [
    "#18.write a code to find the intersection of two given list.\n",
    "#lets take an example of any two list\n",
    "list1=[1,2,3,4,5]\n",
    "list2=[3,4,5,6,7]\n",
    "set1=set(list1)\n",
    "set2=set(list2)\n",
    "final_set=set(list1)&set(list2)\n",
    "final_list=list(final_set)\n",
    "    \n",
    "        "
   ]
  },
  {
   "cell_type": "code",
   "execution_count": 51,
   "id": "28b0bbb8-70a0-4520-bf9c-70d01eab5b7b",
   "metadata": {},
   "outputs": [
    {
     "name": "stdout",
     "output_type": "stream",
     "text": [
      "[3, 4, 5]\n"
     ]
    }
   ],
   "source": [
    "print(final_list)"
   ]
  },
  {
   "cell_type": "code",
   "execution_count": 47,
   "id": "60094616-f51d-4dfe-aee4-14da11f93406",
   "metadata": {},
   "outputs": [],
   "source": [
    "#19.Create a code to find union of two list without duplicates.\n",
    "#let take an example any two random list.\n",
    "list1=[1,2,3,4] \n",
    "list2=[3,4,5,6]\n",
    "set1=set(list1)\n",
    "set2=set(list2)\n",
    "final_set=set1|set2\n",
    "final_list=list(final_set)\n",
    "    "
   ]
  },
  {
   "cell_type": "code",
   "execution_count": 48,
   "id": "8a0cc383-ea27-4156-9b2b-04f362dfded3",
   "metadata": {},
   "outputs": [
    {
     "name": "stdout",
     "output_type": "stream",
     "text": [
      "[1, 2, 3, 4, 5, 6]\n"
     ]
    }
   ],
   "source": [
    "print(final_list)"
   ]
  },
  {
   "cell_type": "code",
   "execution_count": 60,
   "id": "4726848e-b416-4c9e-affe-363db642b5fc",
   "metadata": {},
   "outputs": [],
   "source": [
    "#21.Write a code that takes two tuples as input and return a new  tuple cointaining elements that are commom to both input tuples.\n",
    "#lets take two tuple as example\n",
    "tuple1=(1,2,3,4,5)\n",
    "tuple2=(2,3,4,5,6)\n",
    "set1=set(tuple1)\n",
    "set2=set(tuple2)\n",
    "final_set=set1&set2\n",
    "final_tuple=tuple(final_set)"
   ]
  },
  {
   "cell_type": "code",
   "execution_count": 55,
   "id": "ac15452c-eaac-4bdb-9cf2-eae37fc2f705",
   "metadata": {},
   "outputs": [
    {
     "name": "stdout",
     "output_type": "stream",
     "text": [
      "(2, 3, 4, 5)\n"
     ]
    }
   ],
   "source": [
    "print(final_tuple)"
   ]
  },
  {
   "cell_type": "code",
   "execution_count": 98,
   "id": "e18bca24-0675-46d7-94b3-d9346bfe759d",
   "metadata": {},
   "outputs": [],
   "source": [
    "#22.Write a code that prompts a user to enter two sets of integer separated by commas then print intersection of these two sets.\n",
    "#lets take two random for example\n",
    "def final_set(input_set1,input_set2):\n",
    "    set1=set(input_set1)\n",
    "    set2=set(input_set2)\n",
    "    final_set=set1&set2\n",
    "    return final_set"
   ]
  },
  {
   "cell_type": "code",
   "execution_count": 99,
   "id": "21ccecab-704c-45e8-83ee-149300928a26",
   "metadata": {},
   "outputs": [
    {
     "data": {
      "text/plain": [
       "{3, 4}"
      ]
     },
     "execution_count": 99,
     "metadata": {},
     "output_type": "execute_result"
    }
   ],
   "source": [
    "final_set((1,2,3,4),(3,4,5,6))"
   ]
  },
  {
   "cell_type": "code",
   "execution_count": 94,
   "id": "f7949845-17d3-4c2f-a419-503366c8347b",
   "metadata": {},
   "outputs": [],
   "source": [
    "#23.Write a code to concatenate two tuples.the function should take two tuple as input and return a new tuple cointaining elementsfrom both input tuples.\n",
    "def concatenate_tuples(tuple1, tuple2):\n",
    "    # Convert tuples to lists and concatenate them\n",
    "    concatenated_list = list(tuple1) + list(tuple2)\n",
    "    # Convert the concatenated list back to a tuple\n",
    "    concatenated_tuple = tuple(concatenated_list)\n",
    "    return concatenated_tuple\n"
   ]
  },
  {
   "cell_type": "code",
   "execution_count": 97,
   "id": "965349e2-375d-43e1-ab1a-3a5e30d308a8",
   "metadata": {},
   "outputs": [
    {
     "data": {
      "text/plain": [
       "(1, 2, 3, 4, 2, 3, 4, 5)"
      ]
     },
     "execution_count": 97,
     "metadata": {},
     "output_type": "execute_result"
    }
   ],
   "source": [
    "concatenate_tuples((1,2,3,4),(2,3,4,5))"
   ]
  },
  {
   "cell_type": "code",
   "execution_count": 100,
   "id": "93e959ec-f0e9-4ed0-88a5-f22e3427db9b",
   "metadata": {},
   "outputs": [],
   "source": [
    "#24.Develop a code that prompts the user to input two set of strings.Print the element that are present in first set but not in second set.\n",
    "def last_string(string1,string2):\n",
    "    set1=set(string1)\n",
    "    set2=set(string2)\n",
    "    final_set=set1-set2\n",
    "    return final_set"
   ]
  },
  {
   "cell_type": "code",
   "execution_count": 101,
   "id": "e8ce7e79-2fee-4aa4-bb11-de3b5755483d",
   "metadata": {},
   "outputs": [
    {
     "data": {
      "text/plain": [
       "{'IT', 'pw_skills'}"
      ]
     },
     "execution_count": 101,
     "metadata": {},
     "output_type": "execute_result"
    }
   ],
   "source": [
    "last_string({\"pw_skills\",\"cs\",\"IT\",\"web_development\"},{\"cs\",\"web_development\",\"mathematics\"})"
   ]
  },
  {
   "cell_type": "code",
   "execution_count": 102,
   "id": "6c1bbd55-703c-49f4-932d-2cd426ae1024",
   "metadata": {},
   "outputs": [],
   "source": [
    "#26.Write a code that prompts the user to input two set of characters.then print the union of these two sets.\n",
    "def union_set(chracter1,chracter2):\n",
    "    set1=set(chracter1)\n",
    "    set2=set(chracter2)\n",
    "    union_set=set1|set2\n",
    "    return union_set\n",
    "    \n",
    "    "
   ]
  },
  {
   "cell_type": "code",
   "execution_count": 103,
   "id": "48be2f89-a9c7-4a61-8bac-e725a1276623",
   "metadata": {},
   "outputs": [
    {
     "data": {
      "text/plain": [
       "{1, 2, 3, 4, 5, 6, 7, 8, 9}"
      ]
     },
     "execution_count": 103,
     "metadata": {},
     "output_type": "execute_result"
    }
   ],
   "source": [
    "union_set({1,2,3,4,5},{6,7,8,9})"
   ]
  },
  {
   "cell_type": "code",
   "execution_count": 108,
   "id": "fbb6b349-833b-4cfb-814d-66cf3938092a",
   "metadata": {},
   "outputs": [],
   "source": [
    "#27.Develop a code that takes a tuple of integers as input.The fuction should return maximum and minimum values from the tuple using tuple unpacking.\n",
    "def my_tuple(integers):\n",
    "    new_tuple=tuple(integers)\n",
    "    #for maximum value\n",
    "    max(new_tuple)\n",
    "    #for minuimum value\n",
    "    min(new_tuple)\n",
    "    return max(new_tuple),min(new_tuple)\n",
    "\n"
   ]
  },
  {
   "cell_type": "code",
   "execution_count": 109,
   "id": "068ed250-7eb7-4cbd-9eca-12d4448b8b2e",
   "metadata": {},
   "outputs": [
    {
     "data": {
      "text/plain": [
       "(7, 1)"
      ]
     },
     "execution_count": 109,
     "metadata": {},
     "output_type": "execute_result"
    }
   ],
   "source": [
    "my_tuple((1,2,3,4,5,6,7))"
   ]
  },
  {
   "cell_type": "code",
   "execution_count": 113,
   "id": "bdc50e8f-55ca-4786-aaa6-2ec9c7234041",
   "metadata": {},
   "outputs": [],
   "source": [
    "#28.Create a code that defines two set of integers.Then print union,intersection and difference of these two sets.\n",
    "def two_sets(set11,set12):\n",
    "    new_set1=set(set11)\n",
    "    new_set2=set(set12)\n",
    "    #for union of sets\n",
    "    union_set=new_set1|new_set2\n",
    "    #for intersection of sets\n",
    "    intersection_set=new_set1&new_set2\n",
    "    #for difference of two set\n",
    "    difference_set=new_set1-new_set2\n",
    "    return union_set,intersection_set,difference_set"
   ]
  },
  {
   "cell_type": "code",
   "execution_count": 116,
   "id": "416ea549-a3f6-471b-9c40-0ca9d0c672bc",
   "metadata": {},
   "outputs": [
    {
     "data": {
      "text/plain": [
       "({1, 2, 3, 4, 5, 6, 7, 8, 9}, {3, 4, 5, 6, 7}, {1, 2})"
      ]
     },
     "execution_count": 116,
     "metadata": {},
     "output_type": "execute_result"
    }
   ],
   "source": [
    "two_sets((1,2,3,4,5,6,7),(3,4,5,6,7,8,9))"
   ]
  },
  {
   "cell_type": "code",
   "execution_count": 136,
   "id": "9ac7d347-565b-4757-9599-98000646487e",
   "metadata": {},
   "outputs": [],
   "source": [
    "#29.Write a code that takes a tuple and an element as input.The function should return the count of occurences of the given element in the tuple.\n",
    "def count_occurrences(tup, element):\n",
    "    count = 0\n",
    "    for i in tup:\n",
    "        if i == element:\n",
    "            count += 1\n",
    "    return count\n",
    "\n"
   ]
  },
  {
   "cell_type": "code",
   "execution_count": 137,
   "id": "d9947c51-b749-4564-88db-64d192789c34",
   "metadata": {},
   "outputs": [
    {
     "data": {
      "text/plain": [
       "3"
      ]
     },
     "execution_count": 137,
     "metadata": {},
     "output_type": "execute_result"
    }
   ],
   "source": [
    "count_occurrences((1,2,3,4,4,4,5,5,6,6),4)"
   ]
  },
  {
   "cell_type": "code",
   "execution_count": 1,
   "id": "5eec1567-14f1-4ae4-8acd-a9343b610d62",
   "metadata": {},
   "outputs": [],
   "source": [
    "#30.Develop a code that prompts the user to input two sets of strings.Then,print the symmetric difference of these two sets.\n",
    "def sym_dff(set1,set2):\n",
    "    new_set1=set(set1)\n",
    "    new_set2=set(set2)\n",
    "    final_set=new_set1^new_set2\n",
    "    return final_set\n"
   ]
  },
  {
   "cell_type": "code",
   "execution_count": 2,
   "id": "ebc4224b-cd52-4a29-be3d-a1da467871cc",
   "metadata": {},
   "outputs": [
    {
     "data": {
      "text/plain": [
       "{1, 2, 6, 7}"
      ]
     },
     "execution_count": 2,
     "metadata": {},
     "output_type": "execute_result"
    }
   ],
   "source": [
    "sym_dff((1,2,3,4,5),(3,4,5,6,7))"
   ]
  },
  {
   "cell_type": "code",
   "execution_count": 41,
   "id": "ddc5cc20-1e23-4182-8cb9-a736b4b32e71",
   "metadata": {},
   "outputs": [],
   "source": [
    "#31.write a code that takes a list of words as inputs and returns a dictionary where the keys are the unique words and and the values are the frequencies of those words in the input list.\n",
    "def num_words(word_dictionary):\n",
    "    new_dictionary={}\n",
    "    for i in word_dictionary:\n",
    "        if i in new_dictionary:\n",
    "            new_dictionary[i]+=1\n",
    "        else:\n",
    "            new_dictionary[i]=1\n",
    "    return new_dictionary\n",
    "\n",
    "\n",
    "    \n",
    "    \n",
    "    \n",
    "    "
   ]
  },
  {
   "cell_type": "code",
   "execution_count": 42,
   "id": "ce081def-6ca1-402c-b297-8006eee6f096",
   "metadata": {},
   "outputs": [
    {
     "data": {
      "text/plain": [
       "{'pwskills': 2, 'cs': 3, 'IT': 4}"
      ]
     },
     "execution_count": 42,
     "metadata": {},
     "output_type": "execute_result"
    }
   ],
   "source": [
    "num_words([\"pwskills\",\"pwskills\",\"cs\",\"cs\",\"cs\",\"IT\",\"IT\",\"IT\",\"IT\"])"
   ]
  },
  {
   "cell_type": "code",
   "execution_count": 53,
   "id": "e0d23b7e-d622-4efc-9dc0-36d57d239283",
   "metadata": {},
   "outputs": [],
   "source": [
    "#32.Write a code that takes two dictionary as input and merges them into a single dictionary.If there are common keys then values should be added together.\n",
    "def merge_dictionaries(dict1, dict2):\n",
    "    merged_dict = dict1.copy()\n",
    "    for key, value in dict2.items():\n",
    "        if key in merged_dict:\n",
    "            merged_dict[key] += value\n",
    "        else:\n",
    "            merged_dict[key] = value\n",
    "    return merged_dict"
   ]
  },
  {
   "cell_type": "code",
   "execution_count": 62,
   "id": "8cf74328-6787-422b-9b2b-dfa05f2e7fb5",
   "metadata": {},
   "outputs": [
    {
     "data": {
      "text/plain": [
       "{'name': 'ankit', 'state': 'bihar'}"
      ]
     },
     "execution_count": 62,
     "metadata": {},
     "output_type": "execute_result"
    }
   ],
   "source": [
    "merge_dictionaries({\"name\":\"ankit\"},{\"state\":\"bihar\"})"
   ]
  },
  {
   "cell_type": "code",
   "execution_count": 63,
   "id": "6a3da6b4-1c80-4609-bbb5-ef9310fd5763",
   "metadata": {},
   "outputs": [],
   "source": [
    "#33.write a code to access a value in a nested dictionary.The function should take the dictionary and a list of key as input,and return the corresponding value.If any of the keys dont exist in the dictionary,the fuction should return none.\n",
    "def access_nested_dict(nested_dict, keys_list):\n",
    "    current_dict = nested_dict\n",
    "    for key in keys_list:\n",
    "        if key in current_dict:\n",
    "            current_dict = current_dict[key]\n",
    "        else:\n",
    "            return None\n",
    "    return current_dict"
   ]
  },
  {
   "cell_type": "code",
   "execution_count": 66,
   "id": "2ededfb8-c33e-43a6-a0b1-7ead99757e8b",
   "metadata": {},
   "outputs": [
    {
     "name": "stdout",
     "output_type": "stream",
     "text": [
      "Corresponding value: 2\n"
     ]
    }
   ],
   "source": [
    "nested_dictionary = {\n",
    "    'fruit': {\n",
    "        'apple': 3,\n",
    "        'banana': 2,\n",
    "        'orange': 1\n",
    "    },\n",
    "    'animal': {\n",
    "        'dog': 2,\n",
    "        'cat': 1\n",
    "    }\n",
    "}\n",
    "\n",
    "keys_to_access = ['fruit', 'banana']\n",
    "\n",
    "result = access_nested_dict(nested_dictionary, keys_to_access)\n",
    "print(\"Corresponding value:\", result)\n"
   ]
  },
  {
   "cell_type": "code",
   "execution_count": null,
   "id": "ff28b243-b177-4cc9-81ca-7d26cd52a117",
   "metadata": {},
   "outputs": [],
   "source": [
    "#34.write a code that takes a dictionary as input and return a sorted version of it based on the values"
   ]
  }
 ],
 "metadata": {
  "kernelspec": {
   "display_name": "Python 3 (ipykernel)",
   "language": "python",
   "name": "python3"
  },
  "language_info": {
   "codemirror_mode": {
    "name": "ipython",
    "version": 3
   },
   "file_extension": ".py",
   "mimetype": "text/x-python",
   "name": "python",
   "nbconvert_exporter": "python",
   "pygments_lexer": "ipython3",
   "version": "3.10.8"
  }
 },
 "nbformat": 4,
 "nbformat_minor": 5
}
