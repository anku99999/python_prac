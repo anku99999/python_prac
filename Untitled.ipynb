{
 "cells": [
  {
   "cell_type": "code",
   "execution_count": 1,
   "id": "90bd68ae-c6fa-4f68-a319-865418250f8c",
   "metadata": {},
   "outputs": [
    {
     "data": {
      "text/plain": [
       "'dlrow olleh'"
      ]
     },
     "execution_count": 1,
     "metadata": {},
     "output_type": "execute_result"
    }
   ],
   "source": [
    "# write a code to reverse the order of string\n",
    "string=\"hello world\"\n",
    "string[::-1]"
   ]
  },
  {
   "cell_type": "code",
   "execution_count": 14,
   "id": "2cc2b10f-8dd2-4348-9ac6-b01edacf2b00",
   "metadata": {},
   "outputs": [
    {
     "name": "stdout",
     "output_type": "stream",
     "text": [
      "no of vowels: \n"
     ]
    }
   ],
   "source": [
    "# write a code to count number of vowels in a string\n",
    "string1=\"hello world\"\n",
    "count=0\n",
    "if i in string1:\n",
    "    [i==\"a\",i==\"e\",i==\"i\",i==\"o\",i==\"u\"]\n",
    "    count=count+1\n",
    "    print(\"no of vowels: \")"
   ]
  },
  {
   "cell_type": "code",
   "execution_count": 24,
   "id": "21c2f52e-ccc3-4a40-8b29-26770f21236a",
   "metadata": {},
   "outputs": [
    {
     "name": "stdout",
     "output_type": "stream",
     "text": [
      "no\n"
     ]
    }
   ],
   "source": [
    "#write a code to check if a given string is a palindrome or not.\n",
    "string2=\"sasas\"\n",
    "if string2[::-1]==True:\n",
    "    print(\"yes\")\n",
    "else:\n",
    "     print(\"no\")\n",
    " \n"
   ]
  },
  {
   "cell_type": "code",
   "execution_count": null,
   "id": "710190a7-779b-4ebb-a8ae-ffbe185ac4f5",
   "metadata": {},
   "outputs": [],
   "source": []
  }
 ],
 "metadata": {
  "kernelspec": {
   "display_name": "Python 3 (ipykernel)",
   "language": "python",
   "name": "python3"
  },
  "language_info": {
   "codemirror_mode": {
    "name": "ipython",
    "version": 3
   },
   "file_extension": ".py",
   "mimetype": "text/x-python",
   "name": "python",
   "nbconvert_exporter": "python",
   "pygments_lexer": "ipython3",
   "version": "3.10.8"
  }
 },
 "nbformat": 4,
 "nbformat_minor": 5
}
