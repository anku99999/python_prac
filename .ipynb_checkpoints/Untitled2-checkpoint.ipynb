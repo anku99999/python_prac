{
 "cells": [
  {
   "cell_type": "code",
   "execution_count": 1,
   "id": "1ebe37bc-b89b-4fdc-aadd-a41ca83cd133",
   "metadata": {},
   "outputs": [
    {
     "data": {
      "text/plain": [
       "{2, 3, 4, 5}"
      ]
     },
     "execution_count": 1,
     "metadata": {},
     "output_type": "execute_result"
    }
   ],
   "source": [
    "set1={1,2,3,4,5}\n",
    "set2={2,3,4,5,6,7}\n",
    "set1&set2   # this is called sets intersection"
   ]
  },
  {
   "cell_type": "code",
   "execution_count": 2,
   "id": "2c486cdc-6488-41e1-b0b6-9d868e046cc5",
   "metadata": {},
   "outputs": [
    {
     "data": {
      "text/plain": [
       "{1, 2, 3, 4, 5, 6, 7}"
      ]
     },
     "execution_count": 2,
     "metadata": {},
     "output_type": "execute_result"
    }
   ],
   "source": [
    "set1|set2  # this is called set union"
   ]
  },
  {
   "cell_type": "code",
   "execution_count": 3,
   "id": "71acd437-b6d3-4e4d-a214-c7ac8a2fccde",
   "metadata": {},
   "outputs": [
    {
     "data": {
      "text/plain": [
       "{1}"
      ]
     },
     "execution_count": 3,
     "metadata": {},
     "output_type": "execute_result"
    }
   ],
   "source": [
    "set1-set2 # this is called set difference"
   ]
  },
  {
   "cell_type": "code",
   "execution_count": 15,
   "id": "5eb2a67e-a36e-4b36-bc31-ee14d6795bfd",
   "metadata": {},
   "outputs": [
    {
     "data": {
      "text/plain": [
       "{1, 6, 7}"
      ]
     },
     "execution_count": 15,
     "metadata": {},
     "output_type": "execute_result"
    }
   ],
   "source": [
    "set1^set2  # this is called symmetric set difference."
   ]
  },
  {
   "cell_type": "code",
   "execution_count": 16,
   "id": "196f919a-2341-4fb8-9e5c-f095ced22116",
   "metadata": {},
   "outputs": [],
   "source": [
    "string1 =\"hello world\"\n",
    "vowels =\"aeiouAEIOU\"\n",
    "count=sum(string1.count(vowel) for vowel in vowels)"
   ]
  },
  {
   "cell_type": "code",
   "execution_count": 17,
   "id": "56fc7d82-5686-4f0a-ae7e-0ccb88316d80",
   "metadata": {},
   "outputs": [
    {
     "name": "stdout",
     "output_type": "stream",
     "text": [
      "3\n"
     ]
    }
   ],
   "source": [
    "print(count)"
   ]
  },
  {
   "cell_type": "code",
   "execution_count": 25,
   "id": "aff5fa1d-0645-48d4-b789-4265b9e38d54",
   "metadata": {},
   "outputs": [],
   "source": [
    "string2=\"aasbbfhlgergbelgvefjvgerjilgergnergenglenelvn\"\n",
    "alphabets=\"f\"\n",
    "count=sum(string2.count(alphabet) for alphabet in alphabets)"
   ]
  },
  {
   "cell_type": "code",
   "execution_count": 26,
   "id": "874860ba-3065-4c79-9aa2-622e842b5752",
   "metadata": {},
   "outputs": [
    {
     "name": "stdout",
     "output_type": "stream",
     "text": [
      "2\n"
     ]
    }
   ],
   "source": [
    "print(count)"
   ]
  },
  {
   "cell_type": "code",
   "execution_count": 27,
   "id": "a54a0996-3e6d-428c-ad72-de2ab14c2d1c",
   "metadata": {},
   "outputs": [],
   "source": [
    "d={\"name\":\"ankit\",\"email\":\"anandankit776@gmail.com\",\"contact\":\"6299989452\"}"
   ]
  },
  {
   "cell_type": "code",
   "execution_count": 28,
   "id": "1e2ce6dc-78ad-447f-8488-a3a929003c8f",
   "metadata": {},
   "outputs": [
    {
     "data": {
      "text/plain": [
       "{'name': 'ankit', 'email': 'anandankit776@gmail.com', 'contact': '6299989452'}"
      ]
     },
     "execution_count": 28,
     "metadata": {},
     "output_type": "execute_result"
    }
   ],
   "source": [
    "d"
   ]
  },
  {
   "cell_type": "code",
   "execution_count": 29,
   "id": "932fe155-47f6-492d-90c9-b4a1e3a8ea0e",
   "metadata": {},
   "outputs": [
    {
     "data": {
      "text/plain": [
       "'ankit'"
      ]
     },
     "execution_count": 29,
     "metadata": {},
     "output_type": "execute_result"
    }
   ],
   "source": [
    " d['name']"
   ]
  },
  {
   "cell_type": "code",
   "execution_count": 30,
   "id": "a87c7147-4931-4db0-a49d-e03987c67042",
   "metadata": {},
   "outputs": [
    {
     "data": {
      "text/plain": [
       "'6299989452'"
      ]
     },
     "execution_count": 30,
     "metadata": {},
     "output_type": "execute_result"
    }
   ],
   "source": [
    "d['contact']"
   ]
  },
  {
   "cell_type": "code",
   "execution_count": 31,
   "id": "a7650f5d-5641-4960-ba25-176ac3bc8f03",
   "metadata": {},
   "outputs": [
    {
     "data": {
      "text/plain": [
       "dict_keys(['name', 'email', 'contact'])"
      ]
     },
     "execution_count": 31,
     "metadata": {},
     "output_type": "execute_result"
    }
   ],
   "source": [
    "d.keys()"
   ]
  },
  {
   "cell_type": "code",
   "execution_count": 32,
   "id": "ee411f1a-07fd-424d-b542-75786000b852",
   "metadata": {},
   "outputs": [
    {
     "data": {
      "text/plain": [
       "dict_values(['ankit', 'anandankit776@gmail.com', '6299989452'])"
      ]
     },
     "execution_count": 32,
     "metadata": {},
     "output_type": "execute_result"
    }
   ],
   "source": [
    "d.values()"
   ]
  },
  {
   "cell_type": "code",
   "execution_count": 34,
   "id": "2942eabd-ed3c-4169-936a-787292a9a0d7",
   "metadata": {},
   "outputs": [
    {
     "data": {
      "text/plain": [
       "dict_items([('name', 'ankit'), ('email', 'anandankit776@gmail.com'), ('contact', '6299989452')])"
      ]
     },
     "execution_count": 34,
     "metadata": {},
     "output_type": "execute_result"
    }
   ],
   "source": [
    "d.items()"
   ]
  },
  {
   "cell_type": "code",
   "execution_count": 37,
   "id": "2c55d06e-bc7a-49e5-aade-fe903c856764",
   "metadata": {},
   "outputs": [
    {
     "data": {
      "text/plain": [
       "'ankit'"
      ]
     },
     "execution_count": 37,
     "metadata": {},
     "output_type": "execute_result"
    }
   ],
   "source": [
    "d.pop(\"name\")"
   ]
  },
  {
   "cell_type": "code",
   "execution_count": 38,
   "id": "b8b83267-cd06-4f77-a511-6cbc03b8b61b",
   "metadata": {},
   "outputs": [
    {
     "name": "stdout",
     "output_type": "stream",
     "text": [
      "{'email': 'anandankit776@gmail.com', 'contact': '6299989452'}\n"
     ]
    }
   ],
   "source": [
    "print(d)"
   ]
  },
  {
   "cell_type": "code",
   "execution_count": 40,
   "id": "5672094f-5011-4c71-bb1f-462322e3d87c",
   "metadata": {},
   "outputs": [
    {
     "ename": "SyntaxError",
     "evalue": "expression expected after dictionary key and ':' (2094093265.py, line 1)",
     "output_type": "error",
     "traceback": [
      "\u001b[0;36m  Cell \u001b[0;32mIn[40], line 1\u001b[0;36m\u001b[0m\n\u001b[0;31m    d1={\"title\":,\"anand\"}\u001b[0m\n\u001b[0m               ^\u001b[0m\n\u001b[0;31mSyntaxError\u001b[0m\u001b[0;31m:\u001b[0m expression expected after dictionary key and ':'\n"
     ]
    }
   ],
   "source": [
    "d1={\"title\":,\"anand\"}\n",
    "d.update(d1)"
   ]
  },
  {
   "cell_type": "code",
   "execution_count": 49,
   "id": "850d6f23-0693-4af7-8454-705884d28ed5",
   "metadata": {},
   "outputs": [
    {
     "data": {
      "text/plain": [
       "{1: 'a21', 2: 'a22', 3: 'a33'}"
      ]
     },
     "execution_count": 49,
     "metadata": {},
     "output_type": "execute_result"
    }
   ],
   "source": [
    "user_id=[1,2,3,4]\n",
    "pswrd=[\"a21\",\"a22\",\"a33\"]\n",
    "{user_id:pswrd for user_id,pswrd in zip(user_id,pswrd)}"
   ]
  },
  {
   "cell_type": "code",
   "execution_count": 47,
   "id": "22bf698e-483e-4231-b5b1-d0274beef095",
   "metadata": {},
   "outputs": [
    {
     "name": "stdout",
     "output_type": "stream",
     "text": [
      "{1: ['a21'], 2: ['a22'], 3: ['a33']}\n"
     ]
    }
   ],
   "source": [
    "print(list)"
   ]
  },
  {
   "cell_type": "code",
   "execution_count": 2,
   "id": "0f56e6cc-37b3-4b14-a60d-75cbf9adc6cd",
   "metadata": {},
   "outputs": [
    {
     "data": {
      "text/plain": [
       "8"
      ]
     },
     "execution_count": 2,
     "metadata": {},
     "output_type": "execute_result"
    }
   ],
   "source": [
    "import math as m\n",
    "m.ceil(7.2)"
   ]
  },
  {
   "cell_type": "markdown",
   "id": "f3493bfa-c109-491c-82ea-cce5e055d242",
   "metadata": {},
   "source": [
    "m.ceil(7.8)"
   ]
  },
  {
   "cell_type": "code",
   "execution_count": 3,
   "id": "88ad2baf-025b-433c-8446-d80559f87afa",
   "metadata": {},
   "outputs": [
    {
     "data": {
      "text/plain": [
       "8"
      ]
     },
     "execution_count": 3,
     "metadata": {},
     "output_type": "execute_result"
    }
   ],
   "source": [
    "m.ceil(7.8)"
   ]
  },
  {
   "cell_type": "code",
   "execution_count": 4,
   "id": "8ca5e7da-1d44-477e-9883-1a4b70426aa0",
   "metadata": {},
   "outputs": [
    {
     "data": {
      "text/plain": [
       "7"
      ]
     },
     "execution_count": 4,
     "metadata": {},
     "output_type": "execute_result"
    }
   ],
   "source": [
    "m.ceil(6.5)"
   ]
  },
  {
   "cell_type": "code",
   "execution_count": 5,
   "id": "f9fbbb10-18c3-46fb-be3f-58cdd3761eb1",
   "metadata": {},
   "outputs": [
    {
     "data": {
      "text/plain": [
       "3"
      ]
     },
     "execution_count": 5,
     "metadata": {},
     "output_type": "execute_result"
    }
   ],
   "source": [
    "m.floor(3.4)"
   ]
  },
  {
   "cell_type": "code",
   "execution_count": 6,
   "id": "75b0eb3e-1a39-4656-aa2a-f9ed0b10aa84",
   "metadata": {},
   "outputs": [
    {
     "name": "stdout",
     "output_type": "stream",
     "text": [
      "welcome to class ankit\n",
      "welcome to class vijay\n",
      "welcome to class ajay\n"
     ]
    }
   ],
   "source": [
    "print(\"welcome to class ankit\")\n",
    "print(\"welcome to class vijay\")\n",
    "print(\"welcome to class ajay\")"
   ]
  },
  {
   "cell_type": "code",
   "execution_count": 15,
   "id": "a4d00c1d-43d5-44f7-bc80-64624633ed64",
   "metadata": {},
   "outputs": [],
   "source": [
    "def func(n):\n",
    "    print(\"welcome to class\",n)"
   ]
  },
  {
   "cell_type": "code",
   "execution_count": 16,
   "id": "5c3f6507-1aeb-4bb8-a427-d13fcd32db45",
   "metadata": {},
   "outputs": [
    {
     "name": "stdout",
     "output_type": "stream",
     "text": [
      "welcome to class naina\n"
     ]
    }
   ],
   "source": [
    "func(\"naina\")"
   ]
  },
  {
   "cell_type": "code",
   "execution_count": 22,
   "id": "2fc89355-157c-408a-8516-3bf8b0d7d565",
   "metadata": {},
   "outputs": [],
   "source": [
    "def func():\n",
    "    print(\"i am your sweetheart\")\n",
    "    "
   ]
  },
  {
   "cell_type": "code",
   "execution_count": 23,
   "id": "dd1ae3c2-6274-4eec-b19a-15fa4b03de61",
   "metadata": {},
   "outputs": [
    {
     "name": "stdout",
     "output_type": "stream",
     "text": [
      "i am your sweetheart\n"
     ]
    },
    {
     "ename": "TypeError",
     "evalue": "unsupported operand type(s) for +: 'NoneType' and 'str'",
     "output_type": "error",
     "traceback": [
      "\u001b[0;31m---------------------------------------------------------------------------\u001b[0m",
      "\u001b[0;31mTypeError\u001b[0m                                 Traceback (most recent call last)",
      "Cell \u001b[0;32mIn[23], line 1\u001b[0m\n\u001b[0;32m----> 1\u001b[0m \u001b[43mfunc\u001b[49m\u001b[43m(\u001b[49m\u001b[43m)\u001b[49m\u001b[38;5;241;43m+\u001b[39;49m\u001b[38;5;124;43m\"\u001b[39;49m\u001b[38;5;124;43mlove you\u001b[39;49m\u001b[38;5;124;43m\"\u001b[39;49m\n",
      "\u001b[0;31mTypeError\u001b[0m: unsupported operand type(s) for +: 'NoneType' and 'str'"
     ]
    }
   ],
   "source": [
    "func()+\"love you\""
   ]
  },
  {
   "cell_type": "code",
   "execution_count": null,
   "id": "dfb6fc3f-3dc3-4fb4-a0c8-92d3456f42e1",
   "metadata": {},
   "outputs": [],
   "source": []
  }
 ],
 "metadata": {
  "kernelspec": {
   "display_name": "Python 3 (ipykernel)",
   "language": "python",
   "name": "python3"
  },
  "language_info": {
   "codemirror_mode": {
    "name": "ipython",
    "version": 3
   },
   "file_extension": ".py",
   "mimetype": "text/x-python",
   "name": "python",
   "nbconvert_exporter": "python",
   "pygments_lexer": "ipython3",
   "version": "3.10.8"
  }
 },
 "nbformat": 4,
 "nbformat_minor": 5
}
