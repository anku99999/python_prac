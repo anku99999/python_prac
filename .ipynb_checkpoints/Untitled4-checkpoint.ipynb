{
 "cells": [
  {
   "cell_type": "code",
   "execution_count": 22,
   "id": "f1ffbe65-cd15-402c-a161-7efb50bce12a",
   "metadata": {},
   "outputs": [
    {
     "ename": "IndentationError",
     "evalue": "unexpected indent (2063163435.py, line 4)",
     "output_type": "error",
     "traceback": [
      "\u001b[0;36m  Cell \u001b[0;32mIn[22], line 4\u001b[0;36m\u001b[0m\n\u001b[0;31m    if type(a)==str:\u001b[0m\n\u001b[0m    ^\u001b[0m\n\u001b[0;31mIndentationError\u001b[0m\u001b[0;31m:\u001b[0m unexpected indent\n"
     ]
    }
   ],
   "source": [
    "def func(a):\n",
    "    n=[\"\"]\n",
    "    \n",
    "        if type(a)==str:\n",
    "            n.count()\n",
    "            return n\n",
    "        "
   ]
  },
  {
   "cell_type": "code",
   "execution_count": 21,
   "id": "2d9a1905-59aa-49e1-8ba2-d38eddadf97d",
   "metadata": {},
   "outputs": [
    {
     "ename": "NameError",
     "evalue": "name 'i' is not defined",
     "output_type": "error",
     "traceback": [
      "\u001b[0;31m---------------------------------------------------------------------------\u001b[0m",
      "\u001b[0;31mNameError\u001b[0m                                 Traceback (most recent call last)",
      "Cell \u001b[0;32mIn[21], line 1\u001b[0m\n\u001b[0;32m----> 1\u001b[0m \u001b[43mfunc\u001b[49m\u001b[43m(\u001b[49m\u001b[43m[\u001b[49m\u001b[38;5;124;43m\"\u001b[39;49m\u001b[38;5;124;43mhello world\u001b[39;49m\u001b[38;5;124;43m\"\u001b[39;49m\u001b[43m]\u001b[49m\u001b[43m)\u001b[49m\n",
      "Cell \u001b[0;32mIn[19], line 3\u001b[0m, in \u001b[0;36mfunc\u001b[0;34m(a)\u001b[0m\n\u001b[1;32m      1\u001b[0m \u001b[38;5;28;01mdef\u001b[39;00m \u001b[38;5;21mfunc\u001b[39m(a):\n\u001b[1;32m      2\u001b[0m     n\u001b[38;5;241m=\u001b[39m[\u001b[38;5;124m\"\u001b[39m\u001b[38;5;124m\"\u001b[39m]\n\u001b[0;32m----> 3\u001b[0m     \u001b[38;5;28;01mif\u001b[39;00m \u001b[43mi\u001b[49m \u001b[38;5;129;01min\u001b[39;00m a:\n\u001b[1;32m      4\u001b[0m         \u001b[38;5;28;01mif\u001b[39;00m \u001b[38;5;28mtype\u001b[39m(i)\u001b[38;5;241m==\u001b[39m\u001b[38;5;28mstr\u001b[39m:\n\u001b[1;32m      5\u001b[0m             n\u001b[38;5;241m.\u001b[39mcount()\n",
      "\u001b[0;31mNameError\u001b[0m: name 'i' is not defined"
     ]
    }
   ],
   "source": [
    "func([\"hello world\"])"
   ]
  },
  {
   "cell_type": "code",
   "execution_count": 49,
   "id": "912279fe-dfac-4cf0-8b80-37e3b7055372",
   "metadata": {},
   "outputs": [],
   "source": [
    "def only_numeric(a):\n",
    "    n=[]\n",
    "    for j in a:\n",
    "        if type(j)==str:\n",
    "            n.append(j)\n",
    "    return n"
   ]
  },
  {
   "cell_type": "code",
   "execution_count": 51,
   "id": "d225d8c5-0a88-4ea4-8189-42e0ff996588",
   "metadata": {},
   "outputs": [
    {
     "data": {
      "text/plain": [
       "['hello ankiy']"
      ]
     },
     "execution_count": 51,
     "metadata": {},
     "output_type": "execute_result"
    }
   ],
   "source": [
    "only_numeric([1,2,3,4.5,\"hello ankiy\"])"
   ]
  },
  {
   "cell_type": "code",
   "execution_count": 69,
   "id": "f8b5e367-2e7e-4003-8ebe-d9e88adb92b2",
   "metadata": {},
   "outputs": [],
   "source": [
    "def sum(*args):\n",
    "    r = 0\n",
    "    for i in args:\n",
    "        r = r+i\n",
    "    return r"
   ]
  },
  {
   "cell_type": "code",
   "execution_count": 81,
   "id": "2b7a252a-3636-44e5-ae2d-648ba700fe52",
   "metadata": {},
   "outputs": [
    {
     "data": {
      "text/plain": [
       "6245260"
      ]
     },
     "execution_count": 81,
     "metadata": {},
     "output_type": "execute_result"
    }
   ],
   "source": [
    "sum(146343,643463,5455454)"
   ]
  },
  {
   "cell_type": "code",
   "execution_count": 84,
   "id": "a1950685-fe60-46f4-96aa-347a06160a4e",
   "metadata": {},
   "outputs": [],
   "source": [
    "def return_list(*args):\n",
    "    k=[]\n",
    "    for i in args:\n",
    "        if type(i)==list:\n",
    "            k.append(i)\n",
    "            return k"
   ]
  },
  {
   "cell_type": "code",
   "execution_count": 85,
   "id": "5fe032d7-a9b5-437b-a38c-4269c4d92a6f",
   "metadata": {},
   "outputs": [
    {
     "data": {
      "text/plain": [
       "[[1, 2, 3, 4]]"
      ]
     },
     "execution_count": 85,
     "metadata": {},
     "output_type": "execute_result"
    }
   ],
   "source": [
    "return_list(1,2,3,4,\"pw skills\",[1,2,3,4],\"jjn tgh\")"
   ]
  },
  {
   "cell_type": "code",
   "execution_count": 93,
   "id": "d642d660-5330-47bf-9dee-d17b6659799d",
   "metadata": {},
   "outputs": [],
   "source": [
    "def department_analysis(name,rank):\n",
    "    return f\"{name} is working in {rank}.\""
   ]
  },
  {
   "cell_type": "code",
   "execution_count": 94,
   "id": "c35a0b8d-322a-4b72-9204-7e595d9b166a",
   "metadata": {},
   "outputs": [
    {
     "data": {
      "text/plain": [
       "'ajay is working in CS.'"
      ]
     },
     "execution_count": 94,
     "metadata": {},
     "output_type": "execute_result"
    }
   ],
   "source": [
    "department_analysis(name=\"ajay\",rank=\"CS\")"
   ]
  },
  {
   "cell_type": "code",
   "execution_count": 12,
   "id": "e32bc073-8c50-407d-aa95-7925329bf427",
   "metadata": {},
   "outputs": [],
   "source": [
    "def couple(husband,wife):\n",
    "    return  f\"{husband} and {wife} are married couples.\""
   ]
  },
  {
   "cell_type": "code",
   "execution_count": 13,
   "id": "fe61213a-c1b1-49a1-819e-15b9454bc761",
   "metadata": {},
   "outputs": [
    {
     "data": {
      "text/plain": [
       "'ankit and shweta are married couples.'"
      ]
     },
     "execution_count": 13,
     "metadata": {},
     "output_type": "execute_result"
    }
   ],
   "source": [
    "couple(husband=\"ankit\",wife=\"shweta\")"
   ]
  },
  {
   "cell_type": "code",
   "execution_count": 15,
   "id": "c6ddbcd9-8027-488f-bca0-fe482a4845b9",
   "metadata": {},
   "outputs": [
    {
     "data": {
      "text/plain": [
       "'ankit and shasha are married couples.'"
      ]
     },
     "execution_count": 15,
     "metadata": {},
     "output_type": "execute_result"
    }
   ],
   "source": [
    "couple(husband=\"ankit\",wife=\"shasha\")"
   ]
  },
  {
   "cell_type": "code",
   "execution_count": 17,
   "id": "a8d5ac68-ddd9-4b27-9ddf-ae32c59cbb39",
   "metadata": {},
   "outputs": [],
   "source": [
    "def kwarg_func(**kwarg):\n",
    "    return kwarg\n"
   ]
  },
  {
   "cell_type": "code",
   "execution_count": 19,
   "id": "846960cf-c644-44fa-9989-42cfe84705bf",
   "metadata": {},
   "outputs": [
    {
     "data": {
      "text/plain": [
       "{'a': 'ankit', 'b': 'struggling'}"
      ]
     },
     "execution_count": 19,
     "metadata": {},
     "output_type": "execute_result"
    }
   ],
   "source": [
    "kwarg_func(a=\"ankit\",b=\"struggling\")"
   ]
  },
  {
   "cell_type": "code",
   "execution_count": 40,
   "id": "fe5a1a1e-4583-46fe-9bc7-3a1191de225d",
   "metadata": {},
   "outputs": [],
   "source": [
    "def test_func(**kwargs):\n",
    "    for i in kwargs.keys():\n",
    "        if type(kwargs[i])==list:\n",
    "            return i, kwargs[i]\n",
    "        \n",
    "        \n",
    "        \n",
    "            "
   ]
  },
  {
   "cell_type": "code",
   "execution_count": 41,
   "id": "2f53ea25-12be-431c-8868-c0216dc8aab5",
   "metadata": {},
   "outputs": [
    {
     "data": {
      "text/plain": [
       "('a', [1, 2, 3])"
      ]
     },
     "execution_count": 41,
     "metadata": {},
     "output_type": "execute_result"
    }
   ],
   "source": [
    "test_func(a=[1,2,3],b=4,c=[3,4,5,6])"
   ]
  },
  {
   "cell_type": "code",
   "execution_count": 80,
   "id": "f8aa58e9-26f6-4be2-a9b3-ded94b3561d6",
   "metadata": {},
   "outputs": [],
   "source": [
    "def test2(**kwargs):\n",
    "    for i in kwargs.keys():\n",
    "        if type(kwargs[i])==set:\n",
    "            \n",
    "            return i,kwargs[i]"
   ]
  },
  {
   "cell_type": "code",
   "execution_count": 81,
   "id": "0ab28bdc-3e52-4db3-87d8-3156b5b4a8ad",
   "metadata": {},
   "outputs": [
    {
     "data": {
      "text/plain": [
       "('b', {1, 2, 3, 4})"
      ]
     },
     "execution_count": 81,
     "metadata": {},
     "output_type": "execute_result"
    }
   ],
   "source": [
    "test2(a=[1,2,34],b={1,2,3,4},c=(1,2,3,40),d={6,7,8,9})"
   ]
  },
  {
   "cell_type": "code",
   "execution_count": 91,
   "id": "66988645-5c3d-424f-86ae-5c8d05966322",
   "metadata": {},
   "outputs": [],
   "source": [
    "def marks_in_subjects(**kwargs):\n",
    "    def total_marks(marks_list):\n",
    "        return sum(marks_list)\n",
    "    marks_list=[]\n",
    "    for subject,marks in kwargs.items():\n",
    "        marks_list.append(marks)\n",
    "        return total_marks(marks_list)"
   ]
  },
  {
   "cell_type": "code",
   "execution_count": 92,
   "id": "59a900c9-e942-4e0f-84d4-86d324dc13a6",
   "metadata": {},
   "outputs": [
    {
     "data": {
      "text/plain": [
       "34"
      ]
     },
     "execution_count": 92,
     "metadata": {},
     "output_type": "execute_result"
    }
   ],
   "source": [
    "marks_in_subjects(a=34,b=35,c=45)"
   ]
  },
  {
   "cell_type": "code",
   "execution_count": null,
   "id": "d78fce61-7752-46e8-abc9-779d8ae6eb66",
   "metadata": {},
   "outputs": [],
   "source": []
  }
 ],
 "metadata": {
  "kernelspec": {
   "display_name": "Python 3 (ipykernel)",
   "language": "python",
   "name": "python3"
  },
  "language_info": {
   "codemirror_mode": {
    "name": "ipython",
    "version": 3
   },
   "file_extension": ".py",
   "mimetype": "text/x-python",
   "name": "python",
   "nbconvert_exporter": "python",
   "pygments_lexer": "ipython3",
   "version": "3.10.8"
  }
 },
 "nbformat": 4,
 "nbformat_minor": 5
}
