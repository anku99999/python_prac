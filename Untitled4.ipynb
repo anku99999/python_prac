{
 "cells": [
  {
   "cell_type": "code",
   "execution_count": 22,
   "id": "f1ffbe65-cd15-402c-a161-7efb50bce12a",
   "metadata": {},
   "outputs": [
    {
     "ename": "IndentationError",
     "evalue": "unexpected indent (2063163435.py, line 4)",
     "output_type": "error",
     "traceback": [
      "\u001b[0;36m  Cell \u001b[0;32mIn[22], line 4\u001b[0;36m\u001b[0m\n\u001b[0;31m    if type(a)==str:\u001b[0m\n\u001b[0m    ^\u001b[0m\n\u001b[0;31mIndentationError\u001b[0m\u001b[0;31m:\u001b[0m unexpected indent\n"
     ]
    }
   ],
   "source": [
    "def func(a):\n",
    "    n=[\"\"]\n",
    "    \n",
    "        if type(a)==str:\n",
    "            n.count()\n",
    "            return n\n",
    "        "
   ]
  },
  {
   "cell_type": "code",
   "execution_count": 21,
   "id": "2d9a1905-59aa-49e1-8ba2-d38eddadf97d",
   "metadata": {},
   "outputs": [
    {
     "ename": "NameError",
     "evalue": "name 'i' is not defined",
     "output_type": "error",
     "traceback": [
      "\u001b[0;31m---------------------------------------------------------------------------\u001b[0m",
      "\u001b[0;31mNameError\u001b[0m                                 Traceback (most recent call last)",
      "Cell \u001b[0;32mIn[21], line 1\u001b[0m\n\u001b[0;32m----> 1\u001b[0m \u001b[43mfunc\u001b[49m\u001b[43m(\u001b[49m\u001b[43m[\u001b[49m\u001b[38;5;124;43m\"\u001b[39;49m\u001b[38;5;124;43mhello world\u001b[39;49m\u001b[38;5;124;43m\"\u001b[39;49m\u001b[43m]\u001b[49m\u001b[43m)\u001b[49m\n",
      "Cell \u001b[0;32mIn[19], line 3\u001b[0m, in \u001b[0;36mfunc\u001b[0;34m(a)\u001b[0m\n\u001b[1;32m      1\u001b[0m \u001b[38;5;28;01mdef\u001b[39;00m \u001b[38;5;21mfunc\u001b[39m(a):\n\u001b[1;32m      2\u001b[0m     n\u001b[38;5;241m=\u001b[39m[\u001b[38;5;124m\"\u001b[39m\u001b[38;5;124m\"\u001b[39m]\n\u001b[0;32m----> 3\u001b[0m     \u001b[38;5;28;01mif\u001b[39;00m \u001b[43mi\u001b[49m \u001b[38;5;129;01min\u001b[39;00m a:\n\u001b[1;32m      4\u001b[0m         \u001b[38;5;28;01mif\u001b[39;00m \u001b[38;5;28mtype\u001b[39m(i)\u001b[38;5;241m==\u001b[39m\u001b[38;5;28mstr\u001b[39m:\n\u001b[1;32m      5\u001b[0m             n\u001b[38;5;241m.\u001b[39mcount()\n",
      "\u001b[0;31mNameError\u001b[0m: name 'i' is not defined"
     ]
    }
   ],
   "source": [
    "func([\"hello world\"])"
   ]
  },
  {
   "cell_type": "code",
   "execution_count": 49,
   "id": "912279fe-dfac-4cf0-8b80-37e3b7055372",
   "metadata": {},
   "outputs": [],
   "source": [
    "def only_numeric(a):\n",
    "    n=[]\n",
    "    for j in a:\n",
    "        if type(j)==str:\n",
    "            n.append(j)\n",
    "    return n"
   ]
  },
  {
   "cell_type": "code",
   "execution_count": 51,
   "id": "d225d8c5-0a88-4ea4-8189-42e0ff996588",
   "metadata": {},
   "outputs": [
    {
     "data": {
      "text/plain": [
       "['hello ankiy']"
      ]
     },
     "execution_count": 51,
     "metadata": {},
     "output_type": "execute_result"
    }
   ],
   "source": [
    "only_numeric([1,2,3,4.5,\"hello ankiy\"])"
   ]
  },
  {
   "cell_type": "code",
   "execution_count": 69,
   "id": "f8b5e367-2e7e-4003-8ebe-d9e88adb92b2",
   "metadata": {},
   "outputs": [],
   "source": [
    "def sum(*args):\n",
    "    r = 0\n",
    "    for i in args:\n",
    "        r = r+i\n",
    "    return r"
   ]
  },
  {
   "cell_type": "code",
   "execution_count": 81,
   "id": "2b7a252a-3636-44e5-ae2d-648ba700fe52",
   "metadata": {},
   "outputs": [
    {
     "data": {
      "text/plain": [
       "6245260"
      ]
     },
     "execution_count": 81,
     "metadata": {},
     "output_type": "execute_result"
    }
   ],
   "source": [
    "sum(146343,643463,5455454)"
   ]
  },
  {
   "cell_type": "code",
   "execution_count": 84,
   "id": "a1950685-fe60-46f4-96aa-347a06160a4e",
   "metadata": {},
   "outputs": [],
   "source": [
    "def return_list(*args):\n",
    "    k=[]\n",
    "    for i in args:\n",
    "        if type(i)==list:\n",
    "            k.append(i)\n",
    "            return k"
   ]
  },
  {
   "cell_type": "code",
   "execution_count": 85,
   "id": "5fe032d7-a9b5-437b-a38c-4269c4d92a6f",
   "metadata": {},
   "outputs": [
    {
     "data": {
      "text/plain": [
       "[[1, 2, 3, 4]]"
      ]
     },
     "execution_count": 85,
     "metadata": {},
     "output_type": "execute_result"
    }
   ],
   "source": [
    "return_list(1,2,3,4,\"pw skills\",[1,2,3,4],\"jjn tgh\")"
   ]
  },
  {
   "cell_type": "code",
   "execution_count": 93,
   "id": "d642d660-5330-47bf-9dee-d17b6659799d",
   "metadata": {},
   "outputs": [],
   "source": [
    "def department_analysis(name,rank):\n",
    "    return f\"{name} is working in {rank}.\""
   ]
  },
  {
   "cell_type": "code",
   "execution_count": 94,
   "id": "c35a0b8d-322a-4b72-9204-7e595d9b166a",
   "metadata": {},
   "outputs": [
    {
     "data": {
      "text/plain": [
       "'ajay is working in CS.'"
      ]
     },
     "execution_count": 94,
     "metadata": {},
     "output_type": "execute_result"
    }
   ],
   "source": [
    "department_analysis(name=\"ajay\",rank=\"CS\")"
   ]
  },
  {
   "cell_type": "code",
   "execution_count": 12,
   "id": "e32bc073-8c50-407d-aa95-7925329bf427",
   "metadata": {},
   "outputs": [],
   "source": [
    "def couple(husband,wife):\n",
    "    return  f\"{husband} and {wife} are married couples.\""
   ]
  },
  {
   "cell_type": "code",
   "execution_count": 13,
   "id": "fe61213a-c1b1-49a1-819e-15b9454bc761",
   "metadata": {},
   "outputs": [
    {
     "data": {
      "text/plain": [
       "'ankit and shweta are married couples.'"
      ]
     },
     "execution_count": 13,
     "metadata": {},
     "output_type": "execute_result"
    }
   ],
   "source": [
    "couple(husband=\"ankit\",wife=\"shweta\")"
   ]
  },
  {
   "cell_type": "code",
   "execution_count": 15,
   "id": "c6ddbcd9-8027-488f-bca0-fe482a4845b9",
   "metadata": {},
   "outputs": [
    {
     "data": {
      "text/plain": [
       "'ankit and shasha are married couples.'"
      ]
     },
     "execution_count": 15,
     "metadata": {},
     "output_type": "execute_result"
    }
   ],
   "source": [
    "couple(husband=\"ankit\",wife=\"shasha\")"
   ]
  },
  {
   "cell_type": "code",
   "execution_count": 17,
   "id": "a8d5ac68-ddd9-4b27-9ddf-ae32c59cbb39",
   "metadata": {},
   "outputs": [],
   "source": [
    "def kwarg_func(**kwarg):\n",
    "    return kwarg\n"
   ]
  },
  {
   "cell_type": "code",
   "execution_count": 19,
   "id": "846960cf-c644-44fa-9989-42cfe84705bf",
   "metadata": {},
   "outputs": [
    {
     "data": {
      "text/plain": [
       "{'a': 'ankit', 'b': 'struggling'}"
      ]
     },
     "execution_count": 19,
     "metadata": {},
     "output_type": "execute_result"
    }
   ],
   "source": [
    "kwarg_func(a=\"ankit\",b=\"struggling\")"
   ]
  },
  {
   "cell_type": "code",
   "execution_count": 40,
   "id": "fe5a1a1e-4583-46fe-9bc7-3a1191de225d",
   "metadata": {},
   "outputs": [],
   "source": [
    "def test_func(**kwargs):\n",
    "    for i in kwargs.keys():\n",
    "        if type(kwargs[i])==list:\n",
    "            return i, kwargs[i]\n",
    "        \n",
    "        \n",
    "        \n",
    "            "
   ]
  },
  {
   "cell_type": "code",
   "execution_count": 41,
   "id": "2f53ea25-12be-431c-8868-c0216dc8aab5",
   "metadata": {},
   "outputs": [
    {
     "data": {
      "text/plain": [
       "('a', [1, 2, 3])"
      ]
     },
     "execution_count": 41,
     "metadata": {},
     "output_type": "execute_result"
    }
   ],
   "source": [
    "test_func(a=[1,2,3],b=4,c=[3,4,5,6])"
   ]
  },
  {
   "cell_type": "code",
   "execution_count": 80,
   "id": "f8aa58e9-26f6-4be2-a9b3-ded94b3561d6",
   "metadata": {},
   "outputs": [],
   "source": [
    "def test2(**kwargs):\n",
    "    for i in kwargs.keys():\n",
    "        if type(kwargs[i])==set:\n",
    "            \n",
    "            return i,kwargs[i]"
   ]
  },
  {
   "cell_type": "code",
   "execution_count": 81,
   "id": "0ab28bdc-3e52-4db3-87d8-3156b5b4a8ad",
   "metadata": {},
   "outputs": [
    {
     "data": {
      "text/plain": [
       "('b', {1, 2, 3, 4})"
      ]
     },
     "execution_count": 81,
     "metadata": {},
     "output_type": "execute_result"
    }
   ],
   "source": [
    "test2(a=[1,2,34],b={1,2,3,4},c=(1,2,3,40),d={6,7,8,9})"
   ]
  },
  {
   "cell_type": "code",
   "execution_count": 216,
   "id": "66988645-5c3d-424f-86ae-5c8d05966322",
   "metadata": {},
   "outputs": [],
   "source": [
    "def marks_in_subjects(**kwargs):\n",
    "    def total_marks(marks_list):\n",
    "        return sum(marks_list)\n",
    "    marks_list=[]\n",
    "    for subject,marks in kwargs.items():\n",
    "        marks_list.append(marks)\n",
    "    return total_marks(marks_list)"
   ]
  },
  {
   "cell_type": "code",
   "execution_count": 217,
   "id": "59a900c9-e942-4e0f-84d4-86d324dc13a6",
   "metadata": {},
   "outputs": [
    {
     "data": {
      "text/plain": [
       "114"
      ]
     },
     "execution_count": 217,
     "metadata": {},
     "output_type": "execute_result"
    }
   ],
   "source": [
    "marks_in_subjects(a=34,b=35,c=45)"
   ]
  },
  {
   "cell_type": "code",
   "execution_count": 98,
   "id": "ef9d8288-9452-4615-b503-d86eca453193",
   "metadata": {},
   "outputs": [],
   "source": [
    "def nuber(num,power):\n",
    "    return(num*power)"
   ]
  },
  {
   "cell_type": "code",
   "execution_count": 99,
   "id": "3709c013-d763-4022-a071-e06629ff9861",
   "metadata": {},
   "outputs": [
    {
     "data": {
      "text/plain": [
       "10"
      ]
     },
     "execution_count": 99,
     "metadata": {},
     "output_type": "execute_result"
    }
   ],
   "source": [
    "nuber(2,5)"
   ]
  },
  {
   "cell_type": "code",
   "execution_count": 103,
   "id": "0a3b0abe-6344-4af5-8972-9aa4dc4a24af",
   "metadata": {},
   "outputs": [],
   "source": [
    "def purse(number,power):\n",
    "    \"\"\" this function returns the power of a number\n",
    "    int(number)= number of whuch the value of power is needed to be found\n",
    "    int(power)= power of that number which is needed to be found\n",
    "    \"\"\"\n",
    "    return(number**power)"
   ]
  },
  {
   "cell_type": "code",
   "execution_count": 104,
   "id": "36971408-ca70-4cd0-8d08-f523f8f6b281",
   "metadata": {},
   "outputs": [
    {
     "data": {
      "text/plain": [
       "243"
      ]
     },
     "execution_count": 104,
     "metadata": {},
     "output_type": "execute_result"
    }
   ],
   "source": [
    "purse(3,5)"
   ]
  },
  {
   "cell_type": "code",
   "execution_count": 106,
   "id": "6fe0a174-02ca-4ef1-ab0e-165886dae1e1",
   "metadata": {},
   "outputs": [
    {
     "name": "stdout",
     "output_type": "stream",
     "text": [
      "Help on function purse in module __main__:\n",
      "\n",
      "purse(number, power)\n",
      "    this function returns the power of a number\n",
      "    int(number)= number of whuch the value of power is needed to be found\n",
      "    int(power)= power of that number which is needed to be found\n",
      "\n"
     ]
    }
   ],
   "source": [
    "help(purse)"
   ]
  },
  {
   "cell_type": "code",
   "execution_count": 107,
   "id": "b9932aaa-380f-4974-bb2c-967390977047",
   "metadata": {},
   "outputs": [
    {
     "data": {
      "text/plain": [
       "' this function returns the power of a number\\n    int(number)= number of whuch the value of power is needed to be found\\n    int(power)= power of that number which is needed to be found\\n    '"
      ]
     },
     "execution_count": 107,
     "metadata": {},
     "output_type": "execute_result"
    }
   ],
   "source": [
    "purse.__doc__"
   ]
  },
  {
   "cell_type": "code",
   "execution_count": 108,
   "id": "62ac09f5-34a0-4203-aabb-c4bd0fbd6ee8",
   "metadata": {},
   "outputs": [],
   "source": [
    "#lambda function"
   ]
  },
  {
   "cell_type": "code",
   "execution_count": 111,
   "id": "c65a6a90-4124-4ec3-ba21-d73a1878a96d",
   "metadata": {},
   "outputs": [],
   "source": [
    "def square(x):\n",
    "    return x**2"
   ]
  },
  {
   "cell_type": "code",
   "execution_count": 112,
   "id": "f32b9ae8-d8e2-47fe-a132-29e8d37278aa",
   "metadata": {},
   "outputs": [
    {
     "data": {
      "text/plain": [
       "25"
      ]
     },
     "execution_count": 112,
     "metadata": {},
     "output_type": "execute_result"
    }
   ],
   "source": [
    "square(5)"
   ]
  },
  {
   "cell_type": "code",
   "execution_count": 116,
   "id": "ff93c752-b2fa-4001-8596-d81310dc942a",
   "metadata": {},
   "outputs": [],
   "source": [
    "square_number=lambda x:x**2 "
   ]
  },
  {
   "cell_type": "code",
   "execution_count": 115,
   "id": "626d324b-d363-4cec-8f0b-6d0436156d85",
   "metadata": {},
   "outputs": [
    {
     "data": {
      "text/plain": [
       "<function __main__.<lambda>(x)>"
      ]
     },
     "execution_count": 115,
     "metadata": {},
     "output_type": "execute_result"
    }
   ],
   "source": [
    "square number=lambda x:x**2 "
   ]
  },
  {
   "cell_type": "code",
   "execution_count": 117,
   "id": "8bea68d2-824f-454e-867e-3e90ed2a515f",
   "metadata": {},
   "outputs": [
    {
     "data": {
      "text/plain": [
       "36"
      ]
     },
     "execution_count": 117,
     "metadata": {},
     "output_type": "execute_result"
    }
   ],
   "source": [
    "square_number(6)"
   ]
  },
  {
   "cell_type": "code",
   "execution_count": 118,
   "id": "c3d8b1fb-725f-4e07-a20e-08d08c1e4ae2",
   "metadata": {},
   "outputs": [],
   "source": [
    "addition=lambda x,y:x+y"
   ]
  },
  {
   "cell_type": "code",
   "execution_count": 119,
   "id": "556d7ae2-3b72-458a-b666-74d04fd3cca0",
   "metadata": {},
   "outputs": [
    {
     "data": {
      "text/plain": [
       "11"
      ]
     },
     "execution_count": 119,
     "metadata": {},
     "output_type": "execute_result"
    }
   ],
   "source": [
    "addition(5,6)"
   ]
  },
  {
   "cell_type": "code",
   "execution_count": 125,
   "id": "f06b1a0c-6589-4d2c-b6eb-0a859a448004",
   "metadata": {},
   "outputs": [],
   "source": [
    "test=lambda z:z%2==0\n"
   ]
  },
  {
   "cell_type": "code",
   "execution_count": 126,
   "id": "18e5fae4-d23a-40f1-accc-72aa07ef4b3b",
   "metadata": {},
   "outputs": [
    {
     "data": {
      "text/plain": [
       "True"
      ]
     },
     "execution_count": 126,
     "metadata": {},
     "output_type": "execute_result"
    }
   ],
   "source": [
    "test(2)"
   ]
  },
  {
   "cell_type": "code",
   "execution_count": 127,
   "id": "196a9a7f-1911-4a71-a1fd-3659f45d9fa3",
   "metadata": {},
   "outputs": [
    {
     "data": {
      "text/plain": [
       "False"
      ]
     },
     "execution_count": 127,
     "metadata": {},
     "output_type": "execute_result"
    }
   ],
   "source": [
    "test(3)"
   ]
  },
  {
   "cell_type": "code",
   "execution_count": 128,
   "id": "b9792ceb-38ee-4325-bc7b-d777aac38f97",
   "metadata": {},
   "outputs": [],
   "source": [
    "words=[\"python\",\"data science\",\"ajay\"]"
   ]
  },
  {
   "cell_type": "code",
   "execution_count": 136,
   "id": "d1ace780-ab97-4cba-b91f-f3e3e7efa0e7",
   "metadata": {},
   "outputs": [],
   "source": [
    "x=[\"python\",\"data science\",\"ajay\"]\n",
    "sorted_words=sorted(x,key=lambda x: len(x))"
   ]
  },
  {
   "cell_type": "code",
   "execution_count": 137,
   "id": "28416228-2659-451b-96e7-cfb2a13a6e51",
   "metadata": {},
   "outputs": [
    {
     "name": "stdout",
     "output_type": "stream",
     "text": [
      "['ajay', 'python', 'data science']\n"
     ]
    }
   ],
   "source": [
    "print(sorted_words)"
   ]
  },
  {
   "cell_type": "code",
   "execution_count": 148,
   "id": "8689b01b-ce7c-4b4d-b4a5-728d394eba31",
   "metadata": {},
   "outputs": [],
   "source": [
    "def factorials(n):\n",
    "    if n==0:\n",
    "        return 1\n",
    "    else:\n",
    "        return n*factorials(n-1)"
   ]
  },
  {
   "cell_type": "code",
   "execution_count": 167,
   "id": "86c0af10-8c98-458c-b8ba-22287dcb774d",
   "metadata": {},
   "outputs": [
    {
     "data": {
      "text/plain": [
       "24"
      ]
     },
     "execution_count": 167,
     "metadata": {},
     "output_type": "execute_result"
    }
   ],
   "source": [
    "factorials(4)"
   ]
  },
  {
   "cell_type": "code",
   "execution_count": 172,
   "id": "fde06f9a-a5c8-428d-b50c-668302e855db",
   "metadata": {},
   "outputs": [],
   "source": [
    "facto=lambda q:1 if q==0 else q*facto(q-1)"
   ]
  },
  {
   "cell_type": "code",
   "execution_count": 173,
   "id": "97baa866-1dd3-49cb-893b-9f2e4b4954d0",
   "metadata": {},
   "outputs": [
    {
     "data": {
      "text/plain": [
       "24"
      ]
     },
     "execution_count": 173,
     "metadata": {},
     "output_type": "execute_result"
    }
   ],
   "source": [
    "facto(4)"
   ]
  },
  {
   "cell_type": "code",
   "execution_count": 177,
   "id": "6c96d2f2-4ac3-4bb4-80be-6ddb3ff2003a",
   "metadata": {},
   "outputs": [],
   "source": [
    "test3=lambda v: \"even\" if v%2==0 else \"odd\""
   ]
  },
  {
   "cell_type": "code",
   "execution_count": 208,
   "id": "5471e5f9-cae1-4ff8-88e6-e8f483e8261d",
   "metadata": {},
   "outputs": [
    {
     "data": {
      "text/plain": [
       "'odd'"
      ]
     },
     "execution_count": 208,
     "metadata": {},
     "output_type": "execute_result"
    }
   ],
   "source": [
    "test3(7)"
   ]
  },
  {
   "cell_type": "code",
   "execution_count": 214,
   "id": "ac291399-6fb5-4d94-a74b-3d5cf969b9e1",
   "metadata": {},
   "outputs": [],
   "source": [
    "list1=[1,2,3,4,5]\n",
    "def square(list1):\n",
    "    sq=[]\n",
    "    for i in list1:\n",
    "        sq.append(i**2)\n",
    "    return sq"
   ]
  },
  {
   "cell_type": "code",
   "execution_count": 215,
   "id": "2f92e771-5ee0-4987-a153-55a879296aa9",
   "metadata": {},
   "outputs": [
    {
     "data": {
      "text/plain": [
       "[1, 4, 9, 16, 25]"
      ]
     },
     "execution_count": 215,
     "metadata": {},
     "output_type": "execute_result"
    }
   ],
   "source": [
    "square(list1)"
   ]
  },
  {
   "cell_type": "code",
   "execution_count": 218,
   "id": "502a0e36-1977-42c1-b95f-868ca0bc15f7",
   "metadata": {},
   "outputs": [],
   "source": [
    "list2=[6,7,8,9]\n",
    "def sq(x):\n",
    "    return x**2"
   ]
  },
  {
   "cell_type": "code",
   "execution_count": 221,
   "id": "d79ba057-bd91-4b87-b1f4-9284f6747b64",
   "metadata": {},
   "outputs": [
    {
     "data": {
      "text/plain": [
       "[36, 49, 64, 81]"
      ]
     },
     "execution_count": 221,
     "metadata": {},
     "output_type": "execute_result"
    }
   ],
   "source": [
    "list(map(sq,list2))"
   ]
  },
  {
   "cell_type": "code",
   "execution_count": 222,
   "id": "0faef328-cf9d-4e20-9c89-ee0b8bf115b2",
   "metadata": {},
   "outputs": [],
   "source": [
    "def num(x):\n",
    "    return x+10"
   ]
  },
  {
   "cell_type": "code",
   "execution_count": 224,
   "id": "4cceebae-6ddc-400c-b28e-88fd70f19440",
   "metadata": {},
   "outputs": [
    {
     "data": {
      "text/plain": [
       "[16, 17, 18, 19]"
      ]
     },
     "execution_count": 224,
     "metadata": {},
     "output_type": "execute_result"
    }
   ],
   "source": [
    "list(map(num,list2))"
   ]
  },
  {
   "cell_type": "code",
   "execution_count": 229,
   "id": "dc7dafb2-c860-46d5-8637-cc37624b1e70",
   "metadata": {},
   "outputs": [
    {
     "data": {
      "text/plain": [
       "[1, 4, 9, 16, 25]"
      ]
     },
     "execution_count": 229,
     "metadata": {},
     "output_type": "execute_result"
    }
   ],
   "source": [
    "list(map(lambda x:x**2,list1))"
   ]
  },
  {
   "cell_type": "code",
   "execution_count": 232,
   "id": "e6b336cf-5c40-42dc-8060-047a3b39d444",
   "metadata": {},
   "outputs": [
    {
     "data": {
      "text/plain": [
       "[16, 17, 18, 19]"
      ]
     },
     "execution_count": 232,
     "metadata": {},
     "output_type": "execute_result"
    }
   ],
   "source": [
    "list(map(lambda x:x+10,list2))"
   ]
  },
  {
   "cell_type": "code",
   "execution_count": 233,
   "id": "55b8050b-9353-4f41-827a-da40608e9697",
   "metadata": {},
   "outputs": [
    {
     "data": {
      "text/plain": [
       "[5, 6, 7, 8]"
      ]
     },
     "execution_count": 233,
     "metadata": {},
     "output_type": "execute_result"
    }
   ],
   "source": [
    "list7=[\"5\",\"6\",\"7\",\"8\"]\n",
    "\n",
    "list(map(lambda x:int(x),list7))\n"
   ]
  },
  {
   "cell_type": "code",
   "execution_count": 235,
   "id": "c7ca43b2-25c2-425e-962c-7bfde9c67dc3",
   "metadata": {},
   "outputs": [
    {
     "data": {
      "text/plain": [
       "[47, 99, 113, 102]"
      ]
     },
     "execution_count": 235,
     "metadata": {},
     "output_type": "execute_result"
    }
   ],
   "source": [
    "list11=[23,34,45,46]\n",
    "list13=[24,65,68,56]\n",
    "list(map(lambda x,y:x+y,list11,list13))"
   ]
  },
  {
   "cell_type": "code",
   "execution_count": 239,
   "id": "088ffc17-e57a-4b39-adb4-7ce85a2acd16",
   "metadata": {},
   "outputs": [
    {
     "data": {
      "text/plain": [
       "['PWkdidjKILckjdvLS']"
      ]
     },
     "execution_count": 239,
     "metadata": {},
     "output_type": "execute_result"
    }
   ],
   "source": [
    "list23=[\"pwKDIDJkilCKJDVls\"]\n",
    "list(map(lambda x:x.swapcase(),list23))"
   ]
  },
  {
   "cell_type": "code",
   "execution_count": 257,
   "id": "96f12483-fc14-4621-b3bd-bb75f600a65f",
   "metadata": {},
   "outputs": [
    {
     "data": {
      "text/plain": [
       "['PW SKILLS', 'ANKIT', 'SHIVA', 'BITTU']"
      ]
     },
     "execution_count": 257,
     "metadata": {},
     "output_type": "execute_result"
    }
   ],
   "source": [
    "list45=[\"pw skills\",\"ankit\",\"shiva\",\"bittu\"]\n",
    "list(map(str.swapcase,list45))"
   ]
  },
  {
   "cell_type": "code",
   "execution_count": 260,
   "id": "007d286f-84b1-4c3e-a2e4-72f15a9a62f0",
   "metadata": {},
   "outputs": [],
   "source": [
    "grades=[\"A\",\"B\",\"C\",\"D\",\"E\"]"
   ]
  },
  {
   "cell_type": "code",
   "execution_count": 263,
   "id": "ee4fe135-f50d-4d9c-bdbe-6ae1ce433531",
   "metadata": {},
   "outputs": [
    {
     "data": {
      "text/plain": [
       "[10, 3, 2, 2, 2]"
      ]
     },
     "execution_count": 263,
     "metadata": {},
     "output_type": "execute_result"
    }
   ],
   "source": [
    "list(map(lambda grade: 10 if grade==\"A\" else (3 if grade==\"B\" else 2),grades))"
   ]
  },
  {
   "cell_type": "code",
   "execution_count": 270,
   "id": "8886a29a-eecc-4f33-a07a-17c0d1333421",
   "metadata": {},
   "outputs": [
    {
     "data": {
      "text/plain": [
       "5040"
      ]
     },
     "execution_count": 270,
     "metadata": {},
     "output_type": "execute_result"
    }
   ],
   "source": [
    "from functools import reduce\n",
    "l=[1,2,3,4,5,6,7]\n",
    "reduce(lambda x,y:x*y,l)"
   ]
  },
  {
   "cell_type": "code",
   "execution_count": 275,
   "id": "72bfdde5-dabe-4123-b6f1-5a41fe597c82",
   "metadata": {},
   "outputs": [
    {
     "data": {
      "text/plain": [
       "10000"
      ]
     },
     "execution_count": 275,
     "metadata": {},
     "output_type": "execute_result"
    }
   ],
   "source": [
    "numbers=[1,2,5,3,100,1000,6,10000]\n",
    "reduce(lambda x,y:x if x>y else y,numbers)"
   ]
  },
  {
   "cell_type": "code",
   "execution_count": 276,
   "id": "c17e8646-90d1-46eb-9943-1c4ecc2cb7f5",
   "metadata": {},
   "outputs": [
    {
     "data": {
      "text/plain": [
       "1"
      ]
     },
     "execution_count": 276,
     "metadata": {},
     "output_type": "execute_result"
    }
   ],
   "source": [
    "reduce(lambda x,y:x if x<y else y,numbers)"
   ]
  },
  {
   "cell_type": "code",
   "execution_count": 287,
   "id": "43df9bce-6e65-44df-a667-62f056d1d7a7",
   "metadata": {},
   "outputs": [],
   "source": [
    "factorial=lambda x:1 if x==0 else x*factorial(x-1)"
   ]
  },
  {
   "cell_type": "code",
   "execution_count": 288,
   "id": "b1a8db8a-0932-42e8-b731-93eb3ffc56eb",
   "metadata": {},
   "outputs": [
    {
     "data": {
      "text/plain": [
       "24"
      ]
     },
     "execution_count": 288,
     "metadata": {},
     "output_type": "execute_result"
    }
   ],
   "source": [
    "factorial(4)"
   ]
  },
  {
   "cell_type": "code",
   "execution_count": 289,
   "id": "b17b7ec3-2419-4bda-8c8d-9172fe62a428",
   "metadata": {},
   "outputs": [],
   "source": [
    "def factorial(n):\n",
    "    if n==0:\n",
    "        return 1\n",
    "    else:\n",
    "        return n*factorial(n-1)"
   ]
  },
  {
   "cell_type": "code",
   "execution_count": 291,
   "id": "9e15e5ed-0f72-4996-8474-5a934a4f3d12",
   "metadata": {},
   "outputs": [
    {
     "data": {
      "text/plain": [
       "120"
      ]
     },
     "execution_count": 291,
     "metadata": {},
     "output_type": "execute_result"
    }
   ],
   "source": [
    "factorial(5)"
   ]
  },
  {
   "cell_type": "code",
   "execution_count": 293,
   "id": "f132a561-3ca9-41c2-8fe2-92afd71fc45d",
   "metadata": {},
   "outputs": [],
   "source": [
    "def facto(n):\n",
    "    return reduce(lambda x,y:x*y,range(1,n+1))"
   ]
  },
  {
   "cell_type": "code",
   "execution_count": 2,
   "id": "94df7603-7ec9-4f0f-b0c1-f41b257568da",
   "metadata": {},
   "outputs": [
    {
     "ename": "NameError",
     "evalue": "name 'facto' is not defined",
     "output_type": "error",
     "traceback": [
      "\u001b[0;31m---------------------------------------------------------------------------\u001b[0m",
      "\u001b[0;31mNameError\u001b[0m                                 Traceback (most recent call last)",
      "Cell \u001b[0;32mIn[2], line 1\u001b[0m\n\u001b[0;32m----> 1\u001b[0m \u001b[43mfacto\u001b[49m(\u001b[38;5;241m6\u001b[39m)\n",
      "\u001b[0;31mNameError\u001b[0m: name 'facto' is not defined"
     ]
    }
   ],
   "source": [
    "facto(6)"
   ]
  },
  {
   "cell_type": "code",
   "execution_count": 10,
   "id": "252fcb06-4230-4d7e-9b87-cba58f08f145",
   "metadata": {},
   "outputs": [
    {
     "data": {
      "text/plain": [
       "[44, 55, 33, 43, 445, 34, 34, 342, 43]"
      ]
     },
     "execution_count": 10,
     "metadata": {},
     "output_type": "execute_result"
    }
   ],
   "source": [
    "list100=[1,3,44,55,33,4,43,445,34,34,342,43]\n",
    "list(filter(lambda x: x>21 ,list100))"
   ]
  },
  {
   "cell_type": "code",
   "execution_count": 18,
   "id": "f2b66e2c-6ee2-4ab1-b010-8d818e1a67b4",
   "metadata": {},
   "outputs": [
    {
     "data": {
      "text/plain": [
       "['data', 'pwskills']"
      ]
     },
     "execution_count": 18,
     "metadata": {},
     "output_type": "execute_result"
    }
   ],
   "source": [
    "s=[\"aj\",\"cmu\",\"data\",\"pwskills\"]\n",
    "list(filter(lambda x:len(x)>3,s))"
   ]
  },
  {
   "cell_type": "code",
   "execution_count": 5,
   "id": "f8d6f1b9-3efe-484a-a727-8ee5d6aa1bfa",
   "metadata": {},
   "outputs": [
    {
     "name": "stdout",
     "output_type": "stream",
     "text": [
      "p\n",
      "w\n",
      "s\n",
      "k\n",
      "i\n",
      "l\n",
      "l\n",
      "s\n"
     ]
    }
   ],
   "source": [
    "for i in \"pwskills\":\n",
    "    print(i)"
   ]
  },
  {
   "cell_type": "code",
   "execution_count": 6,
   "id": "d17efb13-d6b2-4bda-8cc8-010c1196b899",
   "metadata": {},
   "outputs": [
    {
     "name": "stdout",
     "output_type": "stream",
     "text": [
      "1\n",
      "2\n",
      "3\n",
      "4\n",
      "ajay\n",
      "vijay\n"
     ]
    }
   ],
   "source": [
    "list=[1,2,3,4,\"ajay\",\"vijay\"]\n",
    "for i in list:\n",
    "    print(i)"
   ]
  },
  {
   "cell_type": "code",
   "execution_count": 7,
   "id": "006fc9a0-b56a-46ff-a065-141c50969388",
   "metadata": {},
   "outputs": [
    {
     "data": {
      "text/plain": [
       "<str_iterator at 0x7f8368110ac0>"
      ]
     },
     "execution_count": 7,
     "metadata": {},
     "output_type": "execute_result"
    }
   ],
   "source": [
    "s=\"pwskills\"\n",
    "iter(s)\n"
   ]
  },
  {
   "cell_type": "code",
   "execution_count": 8,
   "id": "3470ffe8-d266-4f25-8f71-bfc70ed79dcd",
   "metadata": {},
   "outputs": [
    {
     "data": {
      "text/plain": [
       "<list_iterator at 0x7f83680fe740>"
      ]
     },
     "execution_count": 8,
     "metadata": {},
     "output_type": "execute_result"
    }
   ],
   "source": [
    "list=[1,2,3,4,\"ajay\",\"vijay\"]\n",
    "iter(list)"
   ]
  },
  {
   "cell_type": "code",
   "execution_count": 9,
   "id": "9ca2284d-e8dd-4ab1-870c-e87ccca9680b",
   "metadata": {},
   "outputs": [
    {
     "ename": "TypeError",
     "evalue": "'int' object is not iterable",
     "output_type": "error",
     "traceback": [
      "\u001b[0;31m---------------------------------------------------------------------------\u001b[0m",
      "\u001b[0;31mTypeError\u001b[0m                                 Traceback (most recent call last)",
      "Cell \u001b[0;32mIn[9], line 1\u001b[0m\n\u001b[0;32m----> 1\u001b[0m \u001b[38;5;28;43miter\u001b[39;49m\u001b[43m(\u001b[49m\u001b[38;5;241;43m5\u001b[39;49m\u001b[43m)\u001b[49m\n",
      "\u001b[0;31mTypeError\u001b[0m: 'int' object is not iterable"
     ]
    }
   ],
   "source": [
    "iter(5)"
   ]
  },
  {
   "cell_type": "code",
   "execution_count": 10,
   "id": "9c9586f9-9653-433d-9011-d60ae567b444",
   "metadata": {},
   "outputs": [],
   "source": [
    "a=iter(s)"
   ]
  },
  {
   "cell_type": "code",
   "execution_count": 11,
   "id": "97ea6fa4-fa3e-4356-b032-989a24d23588",
   "metadata": {},
   "outputs": [
    {
     "data": {
      "text/plain": [
       "'p'"
      ]
     },
     "execution_count": 11,
     "metadata": {},
     "output_type": "execute_result"
    }
   ],
   "source": [
    "next(a)"
   ]
  },
  {
   "cell_type": "code",
   "execution_count": 12,
   "id": "f5c5f596-38fc-4816-880e-6dfa6df408db",
   "metadata": {},
   "outputs": [
    {
     "data": {
      "text/plain": [
       "'w'"
      ]
     },
     "execution_count": 12,
     "metadata": {},
     "output_type": "execute_result"
    }
   ],
   "source": [
    "next(a)"
   ]
  },
  {
   "cell_type": "code",
   "execution_count": 13,
   "id": "8a7415f1-3267-43c8-b5a6-2f0b78c1fe5f",
   "metadata": {},
   "outputs": [
    {
     "data": {
      "text/plain": [
       "'s'"
      ]
     },
     "execution_count": 13,
     "metadata": {},
     "output_type": "execute_result"
    }
   ],
   "source": [
    "next(a)"
   ]
  },
  {
   "cell_type": "code",
   "execution_count": 15,
   "id": "8757e940-b039-4ad0-8ef1-e1220507b7ac",
   "metadata": {},
   "outputs": [
    {
     "data": {
      "text/plain": [
       "<list_iterator at 0x7f8368373bb0>"
      ]
     },
     "execution_count": 15,
     "metadata": {},
     "output_type": "execute_result"
    }
   ],
   "source": [
    "list123=[1,2,3,\"ajay\",\"bijay\"]\n",
    "iter(list123)"
   ]
  },
  {
   "cell_type": "code",
   "execution_count": 16,
   "id": "71636d40-d9e3-41bd-9f4e-2f70cb3a279b",
   "metadata": {},
   "outputs": [],
   "source": [
    "b=iter(list123)"
   ]
  },
  {
   "cell_type": "code",
   "execution_count": 17,
   "id": "70ec27c6-20f7-406e-8aea-43fd6ea1fe22",
   "metadata": {},
   "outputs": [
    {
     "data": {
      "text/plain": [
       "1"
      ]
     },
     "execution_count": 17,
     "metadata": {},
     "output_type": "execute_result"
    }
   ],
   "source": [
    "next(b)"
   ]
  },
  {
   "cell_type": "code",
   "execution_count": 18,
   "id": "adff90b6-2301-46d8-b6b6-4e926c14c937",
   "metadata": {},
   "outputs": [
    {
     "data": {
      "text/plain": [
       "2"
      ]
     },
     "execution_count": 18,
     "metadata": {},
     "output_type": "execute_result"
    }
   ],
   "source": [
    "next(b)"
   ]
  },
  {
   "cell_type": "code",
   "execution_count": 20,
   "id": "02248bfa-8930-4bf6-a1f8-32d28800bc4e",
   "metadata": {},
   "outputs": [
    {
     "data": {
      "text/plain": [
       "'ajay'"
      ]
     },
     "execution_count": 20,
     "metadata": {},
     "output_type": "execute_result"
    }
   ],
   "source": [
    "next(b)"
   ]
  },
  {
   "cell_type": "code",
   "execution_count": 21,
   "id": "a52fe32e-c2c0-47f3-acf8-0380c869ff5d",
   "metadata": {},
   "outputs": [
    {
     "data": {
      "text/plain": [
       "'bijay'"
      ]
     },
     "execution_count": 21,
     "metadata": {},
     "output_type": "execute_result"
    }
   ],
   "source": [
    "next(b)"
   ]
  },
  {
   "cell_type": "code",
   "execution_count": 23,
   "id": "f01ab383-8f70-43c3-b7e9-30834acf748c",
   "metadata": {},
   "outputs": [],
   "source": [
    "dict=[\"ankit\",27]"
   ]
  },
  {
   "cell_type": "code",
   "execution_count": 24,
   "id": "cab83be0-c0e3-4bbd-aa2e-92fb9717eb11",
   "metadata": {},
   "outputs": [
    {
     "data": {
      "text/plain": [
       "list"
      ]
     },
     "execution_count": 24,
     "metadata": {},
     "output_type": "execute_result"
    }
   ],
   "source": [
    "type(dict)"
   ]
  },
  {
   "cell_type": "code",
   "execution_count": 25,
   "id": "b9b06a16-61a0-4a82-8c52-8c5b88cc24b5",
   "metadata": {},
   "outputs": [
    {
     "data": {
      "text/plain": [
       "<dict_keyiterator at 0x7f835978a390>"
      ]
     },
     "execution_count": 25,
     "metadata": {},
     "output_type": "execute_result"
    }
   ],
   "source": [
    "dict={\"name\":\"ankit\",\"state\":\"bihar\"}\n",
    "iter(dict)"
   ]
  },
  {
   "cell_type": "code",
   "execution_count": 26,
   "id": "2bc73ffb-d020-4183-8140-d48e9e1cf843",
   "metadata": {},
   "outputs": [],
   "source": [
    "f=iter(dict)"
   ]
  },
  {
   "cell_type": "code",
   "execution_count": 27,
   "id": "6ed8d1f9-62e3-4094-8300-a0801415d290",
   "metadata": {},
   "outputs": [
    {
     "data": {
      "text/plain": [
       "'name'"
      ]
     },
     "execution_count": 27,
     "metadata": {},
     "output_type": "execute_result"
    }
   ],
   "source": [
    "next(f)"
   ]
  },
  {
   "cell_type": "code",
   "execution_count": 28,
   "id": "838ab8f6-75b0-426b-bdb7-ef267d4844f7",
   "metadata": {},
   "outputs": [
    {
     "data": {
      "text/plain": [
       "'state'"
      ]
     },
     "execution_count": 28,
     "metadata": {},
     "output_type": "execute_result"
    }
   ],
   "source": [
    "next(f)"
   ]
  },
  {
   "cell_type": "code",
   "execution_count": 33,
   "id": "3ac74bfb-e967-4558-a84f-0d7d9f45622c",
   "metadata": {},
   "outputs": [],
   "source": [
    "def square_number(n):\n",
    "    result=[]\n",
    "    for i in range(n):\n",
    "        result.append(i**2)\n",
    "    return result"
   ]
  },
  {
   "cell_type": "code",
   "execution_count": 34,
   "id": "e870a715-f824-41e3-8407-837024f52885",
   "metadata": {},
   "outputs": [
    {
     "data": {
      "text/plain": [
       "[0, 1, 4, 9]"
      ]
     },
     "execution_count": 34,
     "metadata": {},
     "output_type": "execute_result"
    }
   ],
   "source": [
    "square_number(4)"
   ]
  },
  {
   "cell_type": "code",
   "execution_count": 46,
   "id": "78719391-655d-44e5-a9f5-fd9d5ef1aa6a",
   "metadata": {},
   "outputs": [],
   "source": [
    "gen=square_number(4)"
   ]
  },
  {
   "cell_type": "code",
   "execution_count": 47,
   "id": "ebee01b9-c437-49be-8c4b-0378808c76b2",
   "metadata": {},
   "outputs": [
    {
     "data": {
      "text/plain": [
       "<generator object square_number at 0x7f835973df50>"
      ]
     },
     "execution_count": 47,
     "metadata": {},
     "output_type": "execute_result"
    }
   ],
   "source": [
    "gen"
   ]
  },
  {
   "cell_type": "code",
   "execution_count": 48,
   "id": "7218f2de-58ee-4ea0-a002-0094926a4cec",
   "metadata": {},
   "outputs": [
    {
     "data": {
      "text/plain": [
       "0"
      ]
     },
     "execution_count": 48,
     "metadata": {},
     "output_type": "execute_result"
    }
   ],
   "source": [
    "next(gen)"
   ]
  },
  {
   "cell_type": "code",
   "execution_count": 49,
   "id": "4f1e3830-0fdc-4093-aedb-28ad6e8efe91",
   "metadata": {},
   "outputs": [
    {
     "data": {
      "text/plain": [
       "1"
      ]
     },
     "execution_count": 49,
     "metadata": {},
     "output_type": "execute_result"
    }
   ],
   "source": [
    "next(gen)"
   ]
  },
  {
   "cell_type": "code",
   "execution_count": 50,
   "id": "3d04dfdb-ca19-433c-945e-ff6696352baa",
   "metadata": {},
   "outputs": [
    {
     "data": {
      "text/plain": [
       "4"
      ]
     },
     "execution_count": 50,
     "metadata": {},
     "output_type": "execute_result"
    }
   ],
   "source": [
    "next(gen)"
   ]
  },
  {
   "cell_type": "code",
   "execution_count": 51,
   "id": "22a4ca4d-0258-497c-a5a5-25cbeee836de",
   "metadata": {},
   "outputs": [
    {
     "data": {
      "text/plain": [
       "9"
      ]
     },
     "execution_count": 51,
     "metadata": {},
     "output_type": "execute_result"
    }
   ],
   "source": [
    "next(gen)"
   ]
  },
  {
   "cell_type": "code",
   "execution_count": 52,
   "id": "83dbc660-a45c-4891-9ed9-45d59ea52d98",
   "metadata": {},
   "outputs": [],
   "source": [
    "def fib(n):\n",
    "    a=0\n",
    "    b=1\n",
    "    for i in range (n):\n",
    "        yield a\n",
    "        a,b=b, a+b"
   ]
  },
  {
   "cell_type": "code",
   "execution_count": 55,
   "id": "62ce28db-e58a-4810-be8a-40e7269856d0",
   "metadata": {},
   "outputs": [],
   "source": [
    "f=fib(10000000)"
   ]
  },
  {
   "cell_type": "code",
   "execution_count": 56,
   "id": "23b46b46-c782-4dce-a902-04d1cadc31a4",
   "metadata": {},
   "outputs": [
    {
     "data": {
      "text/plain": [
       "0"
      ]
     },
     "execution_count": 56,
     "metadata": {},
     "output_type": "execute_result"
    }
   ],
   "source": [
    "next(f)"
   ]
  },
  {
   "cell_type": "code",
   "execution_count": 58,
   "id": "dba07b71-2028-454c-9659-864a9d593415",
   "metadata": {},
   "outputs": [
    {
     "data": {
      "text/plain": [
       "1"
      ]
     },
     "execution_count": 58,
     "metadata": {},
     "output_type": "execute_result"
    }
   ],
   "source": [
    "next(f)"
   ]
  },
  {
   "cell_type": "code",
   "execution_count": 59,
   "id": "cf99c8b8-ab6b-4fa0-b676-8f82aa37ad60",
   "metadata": {},
   "outputs": [
    {
     "data": {
      "text/plain": [
       "2"
      ]
     },
     "execution_count": 59,
     "metadata": {},
     "output_type": "execute_result"
    }
   ],
   "source": [
    "next(f)"
   ]
  },
  {
   "cell_type": "code",
   "execution_count": 60,
   "id": "189d36d7-4d06-451f-b778-a23360ec33c6",
   "metadata": {},
   "outputs": [
    {
     "data": {
      "text/plain": [
       "3"
      ]
     },
     "execution_count": 60,
     "metadata": {},
     "output_type": "execute_result"
    }
   ],
   "source": [
    "next(f)"
   ]
  },
  {
   "cell_type": "code",
   "execution_count": 61,
   "id": "bd250231-7d24-4f3b-82ce-d1a496fcd40e",
   "metadata": {},
   "outputs": [
    {
     "data": {
      "text/plain": [
       "5"
      ]
     },
     "execution_count": 61,
     "metadata": {},
     "output_type": "execute_result"
    }
   ],
   "source": [
    "next(f)"
   ]
  },
  {
   "cell_type": "code",
   "execution_count": 62,
   "id": "3ee4da95-aded-4282-98dc-ba359e1d06d4",
   "metadata": {},
   "outputs": [
    {
     "data": {
      "text/plain": [
       "8"
      ]
     },
     "execution_count": 62,
     "metadata": {},
     "output_type": "execute_result"
    }
   ],
   "source": [
    "next(f)"
   ]
  },
  {
   "cell_type": "code",
   "execution_count": null,
   "id": "f23bba3c-27c4-4925-a4c4-3370c1682391",
   "metadata": {},
   "outputs": [],
   "source": []
  }
 ],
 "metadata": {
  "kernelspec": {
   "display_name": "Python 3 (ipykernel)",
   "language": "python",
   "name": "python3"
  },
  "language_info": {
   "codemirror_mode": {
    "name": "ipython",
    "version": 3
   },
   "file_extension": ".py",
   "mimetype": "text/x-python",
   "name": "python",
   "nbconvert_exporter": "python",
   "pygments_lexer": "ipython3",
   "version": "3.10.8"
  }
 },
 "nbformat": 4,
 "nbformat_minor": 5
}
