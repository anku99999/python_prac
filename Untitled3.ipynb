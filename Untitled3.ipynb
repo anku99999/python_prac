{
 "cells": [
  {
   "cell_type": "code",
   "execution_count": 8,
   "id": "21ef1d6c-aa5c-449b-9729-253af99790c3",
   "metadata": {},
   "outputs": [],
   "source": [
    "def greet(n):\n",
    "    print(\"welcome\",n)"
   ]
  },
  {
   "cell_type": "code",
   "execution_count": 9,
   "id": "972100ab-db84-4f75-a90d-a9e2dccdb48c",
   "metadata": {},
   "outputs": [
    {
     "name": "stdout",
     "output_type": "stream",
     "text": [
      "welcome ajay\n"
     ]
    }
   ],
   "source": [
    "greet(\"ajay\")"
   ]
  },
  {
   "cell_type": "code",
   "execution_count": 10,
   "id": "dc5e1735-0bf0-41d4-8ccc-fdd36314a04f",
   "metadata": {},
   "outputs": [],
   "source": [
    "def enter(n):\n",
    "    print(\"your name is\",n)"
   ]
  },
  {
   "cell_type": "code",
   "execution_count": 11,
   "id": "b51440c7-7d60-4739-affc-585e46727685",
   "metadata": {},
   "outputs": [
    {
     "name": "stdout",
     "output_type": "stream",
     "text": [
      "your name is ankit\n"
     ]
    }
   ],
   "source": [
    "enter(\"ankit\")"
   ]
  },
  {
   "cell_type": "code",
   "execution_count": 12,
   "id": "fc9537f7-c76d-4fbd-94e6-173244f144de",
   "metadata": {},
   "outputs": [],
   "source": [
    "def say(n):\n",
    "    print(\"I love u still\",n)"
   ]
  },
  {
   "cell_type": "code",
   "execution_count": 16,
   "id": "d590ead6-b803-4b2e-bda9-60c9b3d6819b",
   "metadata": {},
   "outputs": [
    {
     "name": "stdout",
     "output_type": "stream",
     "text": [
      "I love u still shasha\n"
     ]
    }
   ],
   "source": [
    "say(\"shasha\")"
   ]
  },
  {
   "cell_type": "code",
   "execution_count": 17,
   "id": "3c775668-9342-4224-aa28-5faef6666f5e",
   "metadata": {},
   "outputs": [
    {
     "data": {
      "text/plain": [
       "'I love u still shashain heaven'"
      ]
     },
     "execution_count": 17,
     "metadata": {},
     "output_type": "execute_result"
    }
   ],
   "source": [
    "\"I love u still shasha\"+\"in heaven\""
   ]
  },
  {
   "cell_type": "code",
   "execution_count": 26,
   "id": "8836c539-0d40-482f-9ca6-7993bae9c46e",
   "metadata": {},
   "outputs": [],
   "source": [
    "def func():\n",
    "    return\"I love u\"\n"
   ]
  },
  {
   "cell_type": "code",
   "execution_count": 29,
   "id": "18ef9b11-3adb-48dc-b99b-a8d4605a0c3f",
   "metadata": {},
   "outputs": [
    {
     "data": {
      "text/plain": [
       "'I love u in heaven'"
      ]
     },
     "execution_count": 29,
     "metadata": {},
     "output_type": "execute_result"
    }
   ],
   "source": [
    "func() + \" in heaven\""
   ]
  },
  {
   "cell_type": "code",
   "execution_count": 30,
   "id": "61654a9f-6f02-4e96-8ee3-50f4f95389ca",
   "metadata": {},
   "outputs": [],
   "source": [
    "def say():\n",
    "    return \"you are my love\""
   ]
  },
  {
   "cell_type": "code",
   "execution_count": 31,
   "id": "64b3cc69-ace3-4d8a-9065-a9fc86f9640d",
   "metadata": {},
   "outputs": [
    {
     "data": {
      "text/plain": [
       "'you are my love'"
      ]
     },
     "execution_count": 31,
     "metadata": {},
     "output_type": "execute_result"
    }
   ],
   "source": [
    "say()"
   ]
  },
  {
   "cell_type": "code",
   "execution_count": 32,
   "id": "10bb6bd4-a87c-45ab-85d9-18af03ed6672",
   "metadata": {},
   "outputs": [
    {
     "data": {
      "text/plain": [
       "'you are my love in my dreams'"
      ]
     },
     "execution_count": 32,
     "metadata": {},
     "output_type": "execute_result"
    }
   ],
   "source": [
    "say()+\" in my dreams\""
   ]
  },
  {
   "cell_type": "code",
   "execution_count": 53,
   "id": "b3834c4a-9094-46a8-95a4-567d2d878def",
   "metadata": {},
   "outputs": [],
   "source": [
    "def func():\n",
    "    calc=2+384*2/6\n",
    "    return calc\n",
    "    "
   ]
  },
  {
   "cell_type": "code",
   "execution_count": 54,
   "id": "bfed6757-1a93-4161-82a3-21c7324ce7aa",
   "metadata": {},
   "outputs": [
    {
     "data": {
      "text/plain": [
       "130.0"
      ]
     },
     "execution_count": 54,
     "metadata": {},
     "output_type": "execute_result"
    }
   ],
   "source": [
    "func()"
   ]
  },
  {
   "cell_type": "code",
   "execution_count": 57,
   "id": "78c4ac72-b75b-46e4-bd39-89b5d3a1a38f",
   "metadata": {},
   "outputs": [],
   "source": [
    "def divide(a,b):\n",
    "    return a/b"
   ]
  },
  {
   "cell_type": "code",
   "execution_count": 58,
   "id": "afbd7ae3-979a-416d-afc0-07de47bc70e1",
   "metadata": {},
   "outputs": [
    {
     "data": {
      "text/plain": [
       "4.0"
      ]
     },
     "execution_count": 58,
     "metadata": {},
     "output_type": "execute_result"
    }
   ],
   "source": [
    "divide(8,2)"
   ]
  },
  {
   "cell_type": "code",
   "execution_count": 77,
   "id": "b3678070-4594-4732-b376-2e224e61831c",
   "metadata": {},
   "outputs": [],
   "source": [
    "def square_number(a):\n",
    "    return a**2 # a is actually an argument."
   ]
  },
  {
   "cell_type": "code",
   "execution_count": 79,
   "id": "34a4f1fb-babd-4d63-b6f9-519499247b9b",
   "metadata": {},
   "outputs": [
    {
     "data": {
      "text/plain": [
       "25"
      ]
     },
     "execution_count": 79,
     "metadata": {},
     "output_type": "execute_result"
    }
   ],
   "source": [
    "square_number(5)"
   ]
  },
  {
   "cell_type": "code",
   "execution_count": 80,
   "id": "d74bf018-25fc-42e2-b440-6a27ae2d85e5",
   "metadata": {},
   "outputs": [
    {
     "data": {
      "text/plain": [
       "119025"
      ]
     },
     "execution_count": 80,
     "metadata": {},
     "output_type": "execute_result"
    }
   ],
   "source": [
    "square_number(345)"
   ]
  },
  {
   "cell_type": "code",
   "execution_count": 81,
   "id": "3d519b3d-fb40-4412-86cf-50ac2785b95b",
   "metadata": {},
   "outputs": [
    {
     "data": {
      "text/plain": [
       "529"
      ]
     },
     "execution_count": 81,
     "metadata": {},
     "output_type": "execute_result"
    }
   ],
   "source": [
    "square_number(23)"
   ]
  },
  {
   "cell_type": "code",
   "execution_count": 92,
   "id": "6330f0c7-d5fe-45fe-b9c5-f6385c61b539",
   "metadata": {},
   "outputs": [
    {
     "data": {
      "text/plain": [
       "2704"
      ]
     },
     "execution_count": 92,
     "metadata": {},
     "output_type": "execute_result"
    }
   ],
   "source": [
    "square_number(52)"
   ]
  },
  {
   "cell_type": "code",
   "execution_count": 104,
   "id": "d2dc4c84-626a-4b4c-ad05-14799e830780",
   "metadata": {},
   "outputs": [],
   "source": [
    "def sum(a,b):\n",
    "    return a+b"
   ]
  },
  {
   "cell_type": "code",
   "execution_count": 105,
   "id": "ac089f4f-1258-4337-b135-d137fbb868f0",
   "metadata": {},
   "outputs": [
    {
     "data": {
      "text/plain": [
       "4456"
      ]
     },
     "execution_count": 105,
     "metadata": {},
     "output_type": "execute_result"
    }
   ],
   "source": [
    "sum(4000,456)"
   ]
  },
  {
   "cell_type": "code",
   "execution_count": 120,
   "id": "3a1edfbe-3a54-44db-bc8a-d50a51174245",
   "metadata": {},
   "outputs": [],
   "source": [
    "def divide_two():\n",
    "    a=int(input(\"enter the first number\"))\n",
    "    b=int(input(\"enter the second number\"))\n",
    "    return a/b"
   ]
  },
  {
   "cell_type": "code",
   "execution_count": 122,
   "id": "816abb1d-5506-462d-aa85-c4046bb204af",
   "metadata": {},
   "outputs": [
    {
     "name": "stdin",
     "output_type": "stream",
     "text": [
      "enter the first number 567\n",
      "enter the second number 34\n"
     ]
    },
    {
     "data": {
      "text/plain": [
       "16.676470588235293"
      ]
     },
     "execution_count": 122,
     "metadata": {},
     "output_type": "execute_result"
    }
   ],
   "source": [
    "divide_two()"
   ]
  },
  {
   "cell_type": "code",
   "execution_count": null,
   "id": "49f29f24-ffd7-4493-8082-53966f1b47ce",
   "metadata": {},
   "outputs": [],
   "source": [
    "def count():\n",
    "    a=int(input(\"word you want to count\"))\n",
    "    count=count+1\n",
    "    return a.count\n",
    "\n",
    "     "
   ]
  },
  {
   "cell_type": "code",
   "execution_count": null,
   "id": "35171a80-7cb0-41e7-b948-00b974e83335",
   "metadata": {},
   "outputs": [],
   "source": [
    "count()"
   ]
  },
  {
   "cell_type": "code",
   "execution_count": null,
   "id": "8c77dfaf-2879-4ad4-ae41-f66ffbaee0ac",
   "metadata": {},
   "outputs": [],
   "source": []
  }
 ],
 "metadata": {
  "kernelspec": {
   "display_name": "Python 3 (ipykernel)",
   "language": "python",
   "name": "python3"
  },
  "language_info": {
   "codemirror_mode": {
    "name": "ipython",
    "version": 3
   },
   "file_extension": ".py",
   "mimetype": "text/x-python",
   "name": "python",
   "nbconvert_exporter": "python",
   "pygments_lexer": "ipython3",
   "version": "3.10.8"
  }
 },
 "nbformat": 4,
 "nbformat_minor": 5
}
